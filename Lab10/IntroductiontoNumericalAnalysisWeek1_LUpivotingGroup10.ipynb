{
  "nbformat": 4,
  "nbformat_minor": 0,
  "metadata": {
    "colab": {
      "name": "IntroductiontoNumericalAnalysisWeek1 LUpivotingGroup10.ipynb",
      "provenance": [],
      "collapsed_sections": []
    },
    "kernelspec": {
      "name": "python3",
      "display_name": "Python 3"
    }
  },
  "cells": [
    {
      "cell_type": "markdown",
      "metadata": {
        "id": "OBc93xD1zMDD"
      },
      "source": [
        "# I. $LU$ factorization of a square matrix\n",
        "When we premultply $A$ by lower triangular elemetary matrices $\\Lambda_j$ it is trasfrommed in an  upper triangular matrix $U$\n",
        "\n",
        "$$  \\Lambda_{n-1}  \\ldots\\Lambda_2  \\Lambda_1 A  = U$$\n",
        "\n",
        "$$  A  = (\\Lambda_{n-1}  \\ldots\\Lambda_2  \\Lambda_2 )^{-1} U$$\n",
        "\n",
        "The inverse of a product of matrices is the revesre product of inverses\n",
        "$$  A  = (\\Lambda_1^{-1}  \\Lambda_2^{-1} \\ldots  \\Lambda_{n-1}^{-1}) U$$\n",
        "\n",
        "and inverse of a Lower Triangular Elemetary Matrix is minus the matrix $\\Lambda_j^{-1} = - \\Lambda_j$, so \n",
        "\n",
        "$$ A  =  (-\\Lambda_1) (-\\Lambda_2) \\ldots   (-\\Lambda_{n-1})  U$$\n",
        "\n",
        "So the $LU$ column pivot factorization is \n",
        "$$  A  = L U$$\n",
        "with\n",
        "$$ U = \\Lambda_{n-1}  \\ldots\\Lambda_2  \\Lambda_1 A  $$\n",
        "an upper triangular matrix\n",
        "$$ L  =  \\Lambda_1^{-1}  \\Lambda_2^{-1} \\ldots  \\Lambda_{n-1}^{-1} m = (-\\Lambda_1) (-\\Lambda_2) \\ldots   (-\\Lambda_{n-1})  $$\n",
        "an lower triangular matrix."
      ]
    },
    {
      "cell_type": "markdown",
      "metadata": {
        "id": "dmO1wEA5zVVS"
      },
      "source": [
        "Consider a simple naive implementation of the LU decomposition. \n",
        "\n",
        "Note that we're using the `numpy` arrays to represent matrices [do **not** use `np.matrix`]."
      ]
    },
    {
      "cell_type": "code",
      "metadata": {
        "id": "0jzv0-yyzDM2"
      },
      "source": [
        "import numpy as np\n",
        "\n",
        "def diy_lu(a):\n",
        "    \"\"\"Construct the LU decomposition of the input matrix.\n",
        "    \n",
        "    Naive LU decomposition: work column by column, accumulate elementary triangular matrices.\n",
        "    No pivoting.\n",
        "    \"\"\"\n",
        "    N = a.shape[0]\n",
        "    \n",
        "    u = a.copy()\n",
        "    L = np.eye(N)\n",
        "    for j in range(N-1):\n",
        "        lam = np.eye(N)\n",
        "        gamma = u[j+1:, j] / u[j, j]\n",
        "        lam[j+1:, j] = -gamma\n",
        "        u = lam @ u\n",
        "\n",
        "        lam[j+1:, j] = gamma\n",
        "        L = L @ lam\n",
        "    return L, u"
      ],
      "execution_count": 1,
      "outputs": []
    },
    {
      "cell_type": "code",
      "metadata": {
        "colab": {
          "base_uri": "https://localhost:8080/"
        },
        "id": "yW-cZc_qzd0Z",
        "outputId": "930e9919-46aa-49cb-ac31-58167d296734"
      },
      "source": [
        "# Now, generate a full rank matrix and test the naive implementation\n",
        "\n",
        "import numpy as np\n",
        "\n",
        "N = 6\n",
        "a = np.zeros((N, N), dtype=float)\n",
        "for i in range(N):\n",
        "    for j in range(N):\n",
        "        a[i, j] = 3. / (0.6*i*j + 1)\n",
        "\n",
        "np.linalg.matrix_rank(a)"
      ],
      "execution_count": 10,
      "outputs": [
        {
          "output_type": "execute_result",
          "data": {
            "text/plain": [
              "6"
            ]
          },
          "metadata": {},
          "execution_count": 10
        }
      ]
    },
    {
      "cell_type": "code",
      "metadata": {
        "colab": {
          "base_uri": "https://localhost:8080/"
        },
        "id": "MJs7LATHzhZq",
        "outputId": "c5d997ca-218d-4862-809d-b2a86a39cb84"
      },
      "source": [
        "np.round(a,3)"
      ],
      "execution_count": 12,
      "outputs": [
        {
          "output_type": "execute_result",
          "data": {
            "text/plain": [
              "array([[3.   , 3.   , 3.   , 3.   , 3.   , 3.   ],\n",
              "       [3.   , 1.875, 1.364, 1.071, 0.882, 0.75 ],\n",
              "       [3.   , 1.364, 0.882, 0.652, 0.517, 0.429],\n",
              "       [3.   , 1.071, 0.652, 0.469, 0.366, 0.3  ],\n",
              "       [3.   , 0.882, 0.517, 0.366, 0.283, 0.231],\n",
              "       [3.   , 0.75 , 0.429, 0.3  , 0.231, 0.188]])"
            ]
          },
          "metadata": {},
          "execution_count": 12
        }
      ]
    },
    {
      "cell_type": "code",
      "source": [
        "# Tweak the printing of floating-point numbers, for clarity\n",
        "np.set_printoptions(precision=3)"
      ],
      "metadata": {
        "id": "y664itzt6NSV"
      },
      "execution_count": 13,
      "outputs": []
    },
    {
      "cell_type": "code",
      "metadata": {
        "colab": {
          "base_uri": "https://localhost:8080/"
        },
        "id": "Y21gOqQ8zsqp",
        "outputId": "b1bcdf02-3e3b-471a-dc50-f32745841291"
      },
      "source": [
        "L, u = diy_lu(a)\n",
        "\n",
        "print(L, \"\\n\")\n",
        "print(u, \"\\n\")\n",
        "\n",
        "# Quick sanity check: L times U must equal the original matrix, up to floating-point errors.\n",
        "print(L@u - a)"
      ],
      "execution_count": 14,
      "outputs": [
        {
          "output_type": "stream",
          "name": "stdout",
          "text": [
            "[[1.    0.    0.    0.    0.    0.   ]\n",
            " [1.    1.    0.    0.    0.    0.   ]\n",
            " [1.    1.455 1.    0.    0.    0.   ]\n",
            " [1.    1.714 1.742 1.    0.    0.   ]\n",
            " [1.    1.882 2.276 2.039 1.    0.   ]\n",
            " [1.    2.    2.671 2.944 2.354 1.   ]] \n",
            "\n",
            "[[ 3.000e+00  3.000e+00  3.000e+00  3.000e+00  3.000e+00  3.000e+00]\n",
            " [ 0.000e+00 -1.125e+00 -1.636e+00 -1.929e+00 -2.118e+00 -2.250e+00]\n",
            " [ 0.000e+00  0.000e+00  2.625e-01  4.574e-01  5.975e-01  7.013e-01]\n",
            " [ 0.000e+00  2.220e-16  0.000e+00 -2.197e-02 -4.480e-02 -6.469e-02]\n",
            " [ 0.000e+00 -4.528e-16  0.000e+00  6.939e-18  8.080e-04  1.902e-03]\n",
            " [ 0.000e+00  4.123e-16  0.000e+00 -1.634e-17  0.000e+00 -1.585e-05]] \n",
            "\n",
            "[[ 0.000e+00  0.000e+00  0.000e+00  0.000e+00  0.000e+00  0.000e+00]\n",
            " [ 0.000e+00  0.000e+00  0.000e+00  0.000e+00  0.000e+00  0.000e+00]\n",
            " [ 0.000e+00  0.000e+00 -1.110e-16  1.110e-16  1.110e-16 -5.551e-17]\n",
            " [ 0.000e+00  0.000e+00  3.331e-16 -2.220e-16 -5.551e-17  0.000e+00]\n",
            " [ 0.000e+00  0.000e+00  0.000e+00 -1.110e-16 -1.665e-16  0.000e+00]\n",
            " [ 0.000e+00  0.000e+00 -1.110e-16 -2.776e-16  1.110e-16  1.110e-16]]\n"
          ]
        }
      ]
    },
    {
      "cell_type": "markdown",
      "metadata": {
        "id": "oSvHYsWuza06"
      },
      "source": [
        "# II. The need for pivoting"
      ]
    },
    {
      "cell_type": "markdown",
      "metadata": {
        "id": "B6z9Gausz4lS"
      },
      "source": [
        "Let's tweak the matrix a little bit, we only change a single element:"
      ]
    },
    {
      "cell_type": "code",
      "metadata": {
        "id": "tkGx4QSTzxOo"
      },
      "source": [
        "a1 = A.copy()\n",
        "a1[1, 1] = 3"
      ],
      "execution_count": 22,
      "outputs": []
    },
    {
      "cell_type": "code",
      "source": [
        "np.round(a1,3)"
      ],
      "metadata": {
        "colab": {
          "base_uri": "https://localhost:8080/"
        },
        "id": "TRC3nCQCkISv",
        "outputId": "db3d5bf8-ecb5-48f6-e709-e1f7e799add4"
      },
      "execution_count": 23,
      "outputs": [
        {
          "output_type": "execute_result",
          "data": {
            "text/plain": [
              "array([[3.   , 3.   , 3.   , 3.   , 3.   , 3.   ],\n",
              "       [3.   , 3.   , 1.364, 1.071, 0.882, 0.75 ],\n",
              "       [3.   , 1.364, 0.882, 0.652, 0.517, 0.429],\n",
              "       [3.   , 1.071, 0.652, 0.469, 0.366, 0.3  ],\n",
              "       [3.   , 0.882, 0.517, 0.366, 0.283, 0.231],\n",
              "       [3.   , 0.75 , 0.429, 0.3  , 0.231, 0.188]])"
            ]
          },
          "metadata": {},
          "execution_count": 23
        }
      ]
    },
    {
      "cell_type": "code",
      "metadata": {
        "colab": {
          "base_uri": "https://localhost:8080/"
        },
        "id": "dotDoRQ0jT71",
        "outputId": "b87c11ea-b273-427f-b1f4-598dad8e5ae2"
      },
      "source": [
        "np.linalg.matrix_rank(a1)"
      ],
      "execution_count": 24,
      "outputs": [
        {
          "output_type": "execute_result",
          "data": {
            "text/plain": [
              "6"
            ]
          },
          "metadata": {},
          "execution_count": 24
        }
      ]
    },
    {
      "cell_type": "code",
      "metadata": {
        "colab": {
          "base_uri": "https://localhost:8080/"
        },
        "id": "NfvRXF3l0Czz",
        "outputId": "634f9f5f-b18f-4947-f2cb-b50dc2c8a2a1"
      },
      "source": [
        "L, U= diy_lu(a1)\n",
        "\n",
        "print(L, U)"
      ],
      "execution_count": 25,
      "outputs": [
        {
          "output_type": "stream",
          "name": "stdout",
          "text": [
            "[[nan nan nan nan nan nan]\n",
            " [nan nan nan nan nan nan]\n",
            " [nan nan nan nan nan nan]\n",
            " [nan nan nan nan nan nan]\n",
            " [nan nan nan nan nan nan]\n",
            " [nan nan nan nan nan nan]] [[nan nan nan nan nan nan]\n",
            " [nan nan nan nan nan nan]\n",
            " [nan nan nan nan nan nan]\n",
            " [nan nan nan nan nan nan]\n",
            " [nan nan nan nan nan nan]\n",
            " [nan nan nan nan nan nan]]\n"
          ]
        },
        {
          "output_type": "stream",
          "name": "stderr",
          "text": [
            "/usr/local/lib/python3.7/dist-packages/ipykernel_launcher.py:15: RuntimeWarning: divide by zero encountered in true_divide\n",
            "  from ipykernel import kernelapp as app\n",
            "/usr/local/lib/python3.7/dist-packages/ipykernel_launcher.py:17: RuntimeWarning: invalid value encountered in matmul\n",
            "/usr/local/lib/python3.7/dist-packages/ipykernel_launcher.py:20: RuntimeWarning: invalid value encountered in matmul\n",
            "/usr/local/lib/python3.7/dist-packages/ipykernel_launcher.py:15: RuntimeWarning: invalid value encountered in true_divide\n",
            "  from ipykernel import kernelapp as app\n"
          ]
        }
      ]
    },
    {
      "cell_type": "markdown",
      "source": [
        "The LU decomposition from scipy.linalg.lu already implements pivoting other sophisticated controls \n",
        "\n",
        "https://docs.scipy.org/doc/scipy/reference/generated/scipy.linalg.lu.html\n",
        "\n",
        "$$A = P L U$$\n",
        "\n",
        "```python\n",
        "\n",
        " P ,  L,  U  = scipy.linalg.lu(a, permute_l=False, overwrite_a=False, check_finite=True)\n",
        "\n",
        "# Returns\n",
        "# (If permute_l == False)\n",
        "# P : Permutation matrix\n",
        "# L : Lower triangular or trapezoidal matrix with unit diagonal. K = min\n",
        "# U : Upper triangular or trapezoidal matrix\n",
        "```"
      ],
      "metadata": {
        "id": "1wOBYHGcyIRG"
      }
    },
    {
      "cell_type": "code",
      "source": [
        "from scipy import linalg\n",
        "P ,  L,  U = linalg.lu(A)\n",
        "\n",
        "print(\"P\\n\",P, \"\\n\")\n",
        "print(\"L\\n\",L, \"\\n\")\n",
        "print(\"U\\n\",np.round(U,3), \"\\n\")\n",
        "print(\"A= P@L@U\\n\", P@L@U, \"\\n\")\n",
        "print(\"A\\n\",A, \"\\n\")\n"
      ],
      "metadata": {
        "colab": {
          "base_uri": "https://localhost:8080/"
        },
        "id": "npXQN18nyHS_",
        "outputId": "41bdb7e4-7ec0-49f9-c540-15d5721d7e49"
      },
      "execution_count": 26,
      "outputs": [
        {
          "output_type": "stream",
          "name": "stdout",
          "text": [
            "P\n",
            " [[1. 0. 0. 0. 0. 0.]\n",
            " [0. 0. 1. 0. 0. 0.]\n",
            " [0. 0. 0. 1. 0. 0.]\n",
            " [0. 0. 0. 0. 1. 0.]\n",
            " [0. 0. 0. 0. 0. 1.]\n",
            " [0. 1. 0. 0. 0. 0.]] \n",
            "\n",
            "L\n",
            " [[1.    0.    0.    0.    0.    0.   ]\n",
            " [1.    1.    0.    0.    0.    0.   ]\n",
            " [1.    0.5   1.    0.    0.    0.   ]\n",
            " [1.    0.727 0.706 1.    0.    0.   ]\n",
            " [1.    0.857 0.41  0.835 1.    0.   ]\n",
            " [1.    0.941 0.178 0.426 0.789 1.   ]] \n",
            "\n",
            "U\n",
            " [[ 3.000e+00  3.000e+00  3.000e+00  3.000e+00  3.000e+00  3.000e+00]\n",
            " [ 0.000e+00 -2.250e+00 -2.571e+00 -2.700e+00 -2.769e+00 -2.812e+00]\n",
            " [ 0.000e+00  0.000e+00 -3.510e-01 -5.790e-01 -7.330e-01 -8.440e-01]\n",
            " [ 0.000e+00  0.000e+00  0.000e+00  2.400e-02  4.900e-02  7.000e-02]\n",
            " [ 0.000e+00  0.000e+00  0.000e+00  0.000e+00 -1.000e-03 -2.000e-03]\n",
            " [ 0.000e+00  0.000e+00  0.000e+00  0.000e+00  0.000e+00  0.000e+00]] \n",
            "\n",
            "A= P@L@U\n",
            " [[3.    3.    3.    3.    3.    3.   ]\n",
            " [3.    1.875 1.364 1.071 0.882 0.75 ]\n",
            " [3.    1.364 0.882 0.652 0.517 0.429]\n",
            " [3.    1.071 0.652 0.469 0.366 0.3  ]\n",
            " [3.    0.882 0.517 0.366 0.283 0.231]\n",
            " [3.    0.75  0.429 0.3   0.231 0.188]] \n",
            "\n",
            "A\n",
            " [[3.    3.    3.    3.    3.    3.   ]\n",
            " [3.    1.875 1.364 1.071 0.882 0.75 ]\n",
            " [3.    1.364 0.882 0.652 0.517 0.429]\n",
            " [3.    1.071 0.652 0.469 0.366 0.3  ]\n",
            " [3.    0.882 0.517 0.366 0.283 0.231]\n",
            " [3.    0.75  0.429 0.3   0.231 0.188]] \n",
            "\n"
          ]
        }
      ]
    },
    {
      "cell_type": "code",
      "source": [
        "P ,  L,  U = linalg.lu(A1)\n",
        "\n",
        "print(\"P\\n\",P, \"\\n\")\n",
        "print(\"L\\n\",L, \"\\n\")\n",
        "print(\"U\\n\",np.round(U,3), \"\\n\")\n",
        "print(\"A= P@L@U\\n\", P@L@U, \"\\n\")\n",
        "print(\"A\\n\",A, \"\\n\")\n"
      ],
      "metadata": {
        "colab": {
          "base_uri": "https://localhost:8080/"
        },
        "id": "U31oKbCWzKXe",
        "outputId": "85dab7a0-d01f-49fb-bc9d-71c3d3a968e4"
      },
      "execution_count": 27,
      "outputs": [
        {
          "output_type": "stream",
          "name": "stdout",
          "text": [
            "P\n",
            " [[1. 0. 0. 0. 0. 0.]\n",
            " [0. 0. 1. 0. 0. 0.]\n",
            " [0. 0. 0. 1. 0. 0.]\n",
            " [0. 0. 0. 0. 1. 0.]\n",
            " [0. 0. 0. 0. 0. 1.]\n",
            " [0. 1. 0. 0. 0. 0.]] \n",
            "\n",
            "L\n",
            " [[ 1.     0.     0.     0.     0.     0.   ]\n",
            " [ 1.     1.     0.     0.     0.     0.   ]\n",
            " [ 1.    -0.     1.     0.     0.     0.   ]\n",
            " [ 1.     0.727  0.151  1.     0.     0.   ]\n",
            " [ 1.     0.857  0.088  0.514  1.     0.   ]\n",
            " [ 1.     0.941  0.038  0.208  0.641  1.   ]] \n",
            "\n",
            "U\n",
            " [[ 3.000e+00  3.000e+00  3.000e+00  3.000e+00  3.000e+00  3.000e+00]\n",
            " [ 0.000e+00 -2.250e+00 -2.571e+00 -2.700e+00 -2.769e+00 -2.812e+00]\n",
            " [ 0.000e+00  0.000e+00 -1.636e+00 -1.929e+00 -2.118e+00 -2.250e+00]\n",
            " [ 0.000e+00  0.000e+00  0.000e+00 -9.200e-02 -1.480e-01 -1.860e-01]\n",
            " [ 0.000e+00  0.000e+00  0.000e+00  0.000e+00  2.000e-03  4.000e-03]\n",
            " [ 0.000e+00  0.000e+00  0.000e+00  0.000e+00  0.000e+00 -0.000e+00]] \n",
            "\n",
            "A= P@L@U\n",
            " [[3.    3.    3.    3.    3.    3.   ]\n",
            " [3.    3.    1.364 1.071 0.882 0.75 ]\n",
            " [3.    1.364 0.882 0.652 0.517 0.429]\n",
            " [3.    1.071 0.652 0.469 0.366 0.3  ]\n",
            " [3.    0.882 0.517 0.366 0.283 0.231]\n",
            " [3.    0.75  0.429 0.3   0.231 0.188]] \n",
            "\n",
            "A\n",
            " [[3.    3.    3.    3.    3.    3.   ]\n",
            " [3.    1.875 1.364 1.071 0.882 0.75 ]\n",
            " [3.    1.364 0.882 0.652 0.517 0.429]\n",
            " [3.    1.071 0.652 0.469 0.366 0.3  ]\n",
            " [3.    0.882 0.517 0.366 0.283 0.231]\n",
            " [3.    0.75  0.429 0.3   0.231 0.188]] \n",
            "\n"
          ]
        }
      ]
    },
    {
      "cell_type": "markdown",
      "metadata": {
        "id": "OqWxeK450I58"
      },
      "source": [
        "### Test II.1\n",
        "\n",
        "For a naive LU decomposition to work, all leading minors of a matrix should be non-zero. Check if this requirement is satisfied for the two matrices `a` and `a1`.\n",
        "\n",
        "(20% of the grade)"
      ]
    },
    {
      "cell_type": "code",
      "metadata": {
        "colab": {
          "base_uri": "https://localhost:8080/"
        },
        "id": "qCf9-MUqN927",
        "outputId": "25017dc2-1503-469c-cdcb-7c36eaaca377"
      },
      "source": [
        "#Python3\n",
        "\n",
        "#First we need to create a new function, this with the objective of chechkin the leading minors (and that those are $neq$ to 0).\n",
        "\n",
        "def LM(A):\n",
        "   for i in range(int(A.size**0.5)): #run all the matrix\n",
        "     N = A[i,i]\n",
        "     if (N == 0): #check for the zeros\n",
        "       return False\n",
        "       break\n",
        "   return True\n",
        "\n",
        "LM(a), LM(a1)"
      ],
      "execution_count": 28,
      "outputs": [
        {
          "output_type": "execute_result",
          "data": {
            "text/plain": [
              "(True, True)"
            ]
          },
          "metadata": {},
          "execution_count": 28
        }
      ]
    },
    {
      "cell_type": "markdown",
      "metadata": {
        "id": "Qs8AJkWd0XXQ"
      },
      "source": [
        "### Test II.2\n",
        "\n",
        "Modify the `diy_lu` routine to implement column pivoting. Keep track of pivots, you can either construct a permutation matrix, or a swap array (your choice).\n",
        "\n",
        "(40% of the grade)\n",
        "\n",
        "Implement a function to reconstruct the original matrix from a decompositon. Test your routines on the matrices `a` and `a1`.\n",
        "\n",
        "(40% of the grade)"
      ]
    },
    {
      "cell_type": "code",
      "source": [
        "#Python3\n",
        "\n",
        "#Take the original function, then lets modify it, this to fulfill the actual pivoting\n",
        "\n",
        "def diy_lu_piv(a):\n",
        "\n",
        "    N = a.shape[0]\n",
        "    #u = a.copy() no longer needed\n",
        "\n",
        "    #L = np.eye(N) no longer needed\n",
        "    L = a.copy()\n",
        "    U = np.eye(N)\n",
        "\n",
        "    # For the naive LU decomposition to work, we run column by column, accumulate elementary triangular matrices.\n",
        "\n",
        "    for j in range(N-1):\n",
        "\n",
        "        lam = np.eye(N)\n",
        "        gamma = L[j, j + 1:] / L[j, j]\n",
        "        lam[j, j + 1:] = -gamma\n",
        "        L = L @ lam\n",
        "        \n",
        "        lam[j, j + 1:] = gamma\n",
        "        U = lam @ U\n",
        "\n",
        "    return L, U"
      ],
      "metadata": {
        "id": "wZGqOQsI8C6n"
      },
      "execution_count": 29,
      "outputs": []
    },
    {
      "cell_type": "code",
      "source": [
        "L, U = diy_lu_piv(a)"
      ],
      "metadata": {
        "id": "AkM8S2ot8Hyf"
      },
      "execution_count": 30,
      "outputs": []
    },
    {
      "cell_type": "code",
      "source": [
        "print('Identified Lower:', L)"
      ],
      "metadata": {
        "colab": {
          "base_uri": "https://localhost:8080/"
        },
        "id": "q5kP2FCw8J2g",
        "outputId": "7737ff2f-6c25-4bd1-a2eb-2acd05922206"
      },
      "execution_count": 31,
      "outputs": [
        {
          "output_type": "stream",
          "name": "stdout",
          "text": [
            "Identified Lower: [[ 3.000e+00  0.000e+00  0.000e+00  0.000e+00  0.000e+00  0.000e+00]\n",
            " [ 3.000e+00 -1.125e+00  0.000e+00  2.220e-16 -4.528e-16  4.123e-16]\n",
            " [ 3.000e+00 -1.636e+00  2.625e-01  0.000e+00  0.000e+00  0.000e+00]\n",
            " [ 3.000e+00 -1.929e+00  4.574e-01 -2.197e-02  6.939e-18 -1.634e-17]\n",
            " [ 3.000e+00 -2.118e+00  5.975e-01 -4.480e-02  8.080e-04  0.000e+00]\n",
            " [ 3.000e+00 -2.250e+00  7.013e-01 -6.469e-02  1.902e-03 -1.585e-05]]\n"
          ]
        }
      ]
    },
    {
      "cell_type": "code",
      "source": [
        "print('Identified Upper:', U)"
      ],
      "metadata": {
        "colab": {
          "base_uri": "https://localhost:8080/"
        },
        "id": "wW_ovJ1L8Lkx",
        "outputId": "4835dcd8-8404-4e1e-c0ff-4d4e39900db3"
      },
      "execution_count": 32,
      "outputs": [
        {
          "output_type": "stream",
          "name": "stdout",
          "text": [
            "Identified Upper: [[1.    1.    1.    1.    1.    1.   ]\n",
            " [0.    1.    1.455 1.714 1.882 2.   ]\n",
            " [0.    0.    1.    1.742 2.276 2.671]\n",
            " [0.    0.    0.    1.    2.039 2.944]\n",
            " [0.    0.    0.    0.    1.    2.354]\n",
            " [0.    0.    0.    0.    0.    1.   ]]\n"
          ]
        }
      ]
    },
    {
      "cell_type": "code",
      "source": [
        "print(L @ U - a)"
      ],
      "metadata": {
        "colab": {
          "base_uri": "https://localhost:8080/"
        },
        "id": "vT8fzwpP8NYI",
        "outputId": "79fc7300-e8c6-4d52-a236-9f08444f6df5"
      },
      "execution_count": 33,
      "outputs": [
        {
          "output_type": "stream",
          "name": "stdout",
          "text": [
            "[[ 0.000e+00  0.000e+00  0.000e+00  0.000e+00  0.000e+00  0.000e+00]\n",
            " [ 0.000e+00  0.000e+00  0.000e+00  0.000e+00  0.000e+00  0.000e+00]\n",
            " [ 0.000e+00  0.000e+00 -1.110e-16  3.331e-16  0.000e+00 -1.110e-16]\n",
            " [ 0.000e+00  0.000e+00  1.110e-16 -2.220e-16 -1.110e-16 -2.776e-16]\n",
            " [ 0.000e+00  0.000e+00  1.110e-16 -5.551e-17 -1.665e-16  1.110e-16]\n",
            " [ 0.000e+00  0.000e+00 -5.551e-17  0.000e+00  0.000e+00  1.110e-16]]\n"
          ]
        }
      ]
    },
    {
      "cell_type": "markdown",
      "metadata": {
        "id": "tUb6w3y60eyP"
      },
      "source": [
        "# 2. $LU$ factorization column pivoting and reconstruction\n",
        "When we premultply $A$ by elementary permutation matricex$P_j$( to find a good pivot) and then premultply by lower triangular elemetary matrices $\\Lambda_j$, $A$  it is transformed in an  upper triangular matrix $U$\n",
        "\n",
        "$$  \n",
        "(\\Lambda_{n-1} P_{n-1} \\ldots \\Lambda_2 P_2 \\Lambda_1 P_1)A  = U\n",
        "$$\n",
        "and \n",
        "$$  \n",
        "A  = (\\Lambda_{n-1} P_{n-1} \\ldots \\Lambda_2 P_2 \\Lambda_1 P_1)^{-1} U\n",
        "$$\n",
        "\n",
        "\n",
        "So the $LU$ column pivot factorization of $A$ is \n",
        "$$\n",
        "A = LU\n",
        "$$\n",
        "ith\n",
        "$$  \n",
        "U = (\\Lambda_{n-1} P_{n-1} \\ldots \\Lambda_2 P_2 \\Lambda_1 P_1) A\n",
        "$$\n",
        "$$\n",
        "\\begin{array}{ll}L  &=  (\\Lambda_{n-1} P_{n-1} \\ldots \\Lambda_2 P_2 \\Lambda_1 P_1)^{-1}\\\\\n",
        "&= P_1^{-1} \\Lambda_1^{-1} P_2^{-1} \\Lambda_2^{-1} \\ldots  P_{n-1}^{-1}\\\\\n",
        " &= P_1^{t} (-\\Lambda_1) P_2^{t} (-\\Lambda_2) \\ldots  P_{n-1}^{t} (-\\Lambda_{n-1})\n",
        "\\end{array}\n",
        "$$\n",
        "because the inverse a of a Lower Triangular Elemetary Matrix is minus the matrix $\\Lambda_i^{-1} = - \\Lambda_i$ and the inverse of a Permutation Matrix (in particular an elementary permutation matrix)  is its transpose [math.stackexchange](\n",
        "        https://math.stackexchange.com/questions/98549/the-transpose-of-a-permutation-matrix-is-its-inverse#:~:text=Taking%20the%20transpose%20of%20P,Pt%3DP%E2%88%921.)  $P_i^{-1}=P_i^{t}$.\n",
        "\n",
        "Note that \n",
        "$$\n",
        "L= P_1^{t} (-\\Lambda_1) P_2^{t} (-\\Lambda_2) \\ldots  P_{n-1}^{t} (-\\Lambda_{n-1})\n",
        "$$\n",
        "is not exactly a lower tiangular matrix but a row permutated lower tiangular matrix.\n",
        "\n",
        "\n",
        "\n"
      ]
    },
    {
      "cell_type": "markdown",
      "source": [
        "$$PA = LU$$"
      ],
      "metadata": {
        "id": "nV8IGs1Zrzu6"
      }
    },
    {
      "cell_type": "code",
      "metadata": {
        "id": "pCoZ5W-dOLPk"
      },
      "source": [
        "def diy_lu_column_pivot_reconstruct(A):\n",
        "    \"\"\"Construct the LU decomposition of the input matrix.\n",
        "    \n",
        "    LU decomposition with pivot: work column by column, accumulate elementary triangular matrices L @ np.transpose(Pj) .\n",
        "    \"\"\"\n",
        "   # ... ENTER YOUR CODE HERE ...\n",
        "\n",
        "    return  P, L , U"
      ],
      "execution_count": 34,
      "outputs": []
    },
    {
      "cell_type": "code",
      "metadata": {
        "colab": {
          "base_uri": "https://localhost:8080/"
        },
        "id": "fhVlk2aj1Ux5",
        "outputId": "c6bae630-3c9a-46c5-b2fc-2f5c9ff74288"
      },
      "source": [
        "A = np.array([[4,3,1], [5,7,0], [9,9,3]])\n",
        "\n",
        "P, L, U, = diy_lu_column_pivot_reconstruct(A)\n",
        "\n",
        "print(\"P\\n\",P, \"\\n\")\n",
        "print(\"L\\n\",L, \"\\n\")\n",
        "print(\"U\\n\",U, \"\\n\")\n",
        "print(\"A= P@L@U\\n\", P@L@U, \"\\n\")\n",
        "print(\"A\\n\",A, \"\\n\")\n"
      ],
      "execution_count": 36,
      "outputs": [
        {
          "output_type": "stream",
          "name": "stdout",
          "text": [
            "P\n",
            " [[1. 0. 0. 0. 0. 0.]\n",
            " [0. 0. 1. 0. 0. 0.]\n",
            " [0. 0. 0. 1. 0. 0.]\n",
            " [0. 0. 0. 0. 1. 0.]\n",
            " [0. 0. 0. 0. 0. 1.]\n",
            " [0. 1. 0. 0. 0. 0.]] \n",
            "\n",
            "L\n",
            " [[ 3.000e+00  0.000e+00  0.000e+00  0.000e+00  0.000e+00  0.000e+00]\n",
            " [ 3.000e+00 -1.125e+00  0.000e+00  2.220e-16 -4.528e-16  4.123e-16]\n",
            " [ 3.000e+00 -1.636e+00  2.625e-01  0.000e+00  0.000e+00  0.000e+00]\n",
            " [ 3.000e+00 -1.929e+00  4.574e-01 -2.197e-02  6.939e-18 -1.634e-17]\n",
            " [ 3.000e+00 -2.118e+00  5.975e-01 -4.480e-02  8.080e-04  0.000e+00]\n",
            " [ 3.000e+00 -2.250e+00  7.013e-01 -6.469e-02  1.902e-03 -1.585e-05]] \n",
            "\n",
            "U\n",
            " [[1.    1.    1.    1.    1.    1.   ]\n",
            " [0.    1.    1.455 1.714 1.882 2.   ]\n",
            " [0.    0.    1.    1.742 2.276 2.671]\n",
            " [0.    0.    0.    1.    2.039 2.944]\n",
            " [0.    0.    0.    0.    1.    2.354]\n",
            " [0.    0.    0.    0.    0.    1.   ]] \n",
            "\n",
            "A= P@L@U\n",
            " [[3.    3.    3.    3.    3.    3.   ]\n",
            " [3.    1.364 0.882 0.652 0.517 0.429]\n",
            " [3.    1.071 0.652 0.469 0.366 0.3  ]\n",
            " [3.    0.882 0.517 0.366 0.283 0.231]\n",
            " [3.    0.75  0.429 0.3   0.231 0.188]\n",
            " [3.    1.875 1.364 1.071 0.882 0.75 ]] \n",
            "\n",
            "A\n",
            " [[4 3 1]\n",
            " [5 7 0]\n",
            " [9 9 3]] \n",
            "\n"
          ]
        }
      ]
    },
    {
      "cell_type": "code",
      "source": [
        "from scipy import linalg\n",
        "\n",
        "A = np.array([[4,3,1], [5,7,0], [9,9,3]])\n",
        "\n",
        "P,L,U = linalg.lu(A)\n",
        "\n",
        "print(\"P\\n\",P, \"\\n\")\n",
        "print(\"L\\n\",L, \"\\n\")\n",
        "print(\"U\\n\",U, \"\\n\")\n",
        "print(\"A= P@L@U\\n\", P@L@U, \"\\n\")\n",
        "print(\"A\\n\",A, \"\\n\")\n",
        "\n",
        "# Quick sanity check: L times U must equal the original matrix, up to floating-point errors.\n",
        "print(\"L@u - A\\n\",np.round(P@L@U-A,3), \"\\n\")"
      ],
      "metadata": {
        "colab": {
          "base_uri": "https://localhost:8080/"
        },
        "id": "KY0N7EG_xAaP",
        "outputId": "b2383893-ca35-42a5-f52d-0b20f4eb8496"
      },
      "execution_count": 37,
      "outputs": [
        {
          "output_type": "stream",
          "name": "stdout",
          "text": [
            "P\n",
            " [[0. 0. 1.]\n",
            " [0. 1. 0.]\n",
            " [1. 0. 0.]] \n",
            "\n",
            "L\n",
            " [[ 1.     0.     0.   ]\n",
            " [ 0.556  1.     0.   ]\n",
            " [ 0.444 -0.5    1.   ]] \n",
            "\n",
            "U\n",
            " [[ 9.     9.     3.   ]\n",
            " [ 0.     2.    -1.667]\n",
            " [ 0.     0.    -1.167]] \n",
            "\n",
            "A= P@L@U\n",
            " [[4. 3. 1.]\n",
            " [5. 7. 0.]\n",
            " [9. 9. 3.]] \n",
            "\n",
            "A\n",
            " [[4 3 1]\n",
            " [5 7 0]\n",
            " [9 9 3]] \n",
            "\n",
            "L@u - A\n",
            " [[0. 0. 0.]\n",
            " [0. 0. 0.]\n",
            " [0. 0. 0.]] \n",
            "\n"
          ]
        }
      ]
    },
    {
      "cell_type": "code",
      "metadata": {
        "colab": {
          "base_uri": "https://localhost:8080/"
        },
        "id": "XIpfRzl21IDH",
        "outputId": "66bb6eb5-533a-4252-b76c-badda3c129f8"
      },
      "source": [
        "N = 6\n",
        "A = np.zeros((N, N), dtype=float)\n",
        "for i in range(N):\n",
        "    for j in range(N):\n",
        "        A[i, j] = 3. / (0.6*i*j + 1)\n",
        "\n",
        "P, L, U, = diy_lu_column_pivot_reconstruct(A)\n",
        "\n",
        "print(\"P\\n\",P, \"\\n\")\n",
        "print(\"L\\n\",L, \"\\n\")\n",
        "print(\"U\\n\",U, \"\\n\")\n",
        "print(\"A= P@L@U\\n\", P@L@U, \"\\n\")\n",
        "print(\"A\\n\",A, \"\\n\")\n"
      ],
      "execution_count": 39,
      "outputs": [
        {
          "output_type": "stream",
          "name": "stdout",
          "text": [
            "P\n",
            " [[0. 0. 1.]\n",
            " [0. 1. 0.]\n",
            " [1. 0. 0.]] \n",
            "\n",
            "L\n",
            " [[ 1.     0.     0.   ]\n",
            " [ 0.556  1.     0.   ]\n",
            " [ 0.444 -0.5    1.   ]] \n",
            "\n",
            "U\n",
            " [[ 9.     9.     3.   ]\n",
            " [ 0.     2.    -1.667]\n",
            " [ 0.     0.    -1.167]] \n",
            "\n",
            "A= P@L@U\n",
            " [[4. 3. 1.]\n",
            " [5. 7. 0.]\n",
            " [9. 9. 3.]] \n",
            "\n",
            "A\n",
            " [[3.    3.    3.    3.    3.    3.   ]\n",
            " [3.    1.875 1.364 1.071 0.882 0.75 ]\n",
            " [3.    1.364 0.882 0.652 0.517 0.429]\n",
            " [3.    1.071 0.652 0.469 0.366 0.3  ]\n",
            " [3.    0.882 0.517 0.366 0.283 0.231]\n",
            " [3.    0.75  0.429 0.3   0.231 0.188]] \n",
            "\n"
          ]
        }
      ]
    },
    {
      "cell_type": "code",
      "source": [
        "from scipy import linalg\n",
        "\n",
        "P,L,U = linalg.lu(A)\n",
        "\n",
        "print(\"P\\n\",P, \"\\n\")\n",
        "print(\"L\\n\",L, \"\\n\")\n",
        "print(\"U\\n\",U, \"\\n\")\n",
        "print(\"A= P@L@U\\n\", P@L@U, \"\\n\")\n",
        "print(\"A\\n\",A, \"\\n\")\n",
        "\n",
        "# Quick sanity check: L times U must equal the original matrix, up to floating-point errors.\n",
        "print(\"L@u - A\\n\",np.round(P@L@U-A,3), \"\\n\")"
      ],
      "metadata": {
        "colab": {
          "base_uri": "https://localhost:8080/"
        },
        "id": "acLrGb5y4aZl",
        "outputId": "48156200-7e90-411f-d73f-2ccae66c30d9"
      },
      "execution_count": 40,
      "outputs": [
        {
          "output_type": "stream",
          "name": "stdout",
          "text": [
            "P\n",
            " [[1. 0. 0. 0. 0. 0.]\n",
            " [0. 0. 1. 0. 0. 0.]\n",
            " [0. 0. 0. 1. 0. 0.]\n",
            " [0. 0. 0. 0. 1. 0.]\n",
            " [0. 0. 0. 0. 0. 1.]\n",
            " [0. 1. 0. 0. 0. 0.]] \n",
            "\n",
            "L\n",
            " [[1.    0.    0.    0.    0.    0.   ]\n",
            " [1.    1.    0.    0.    0.    0.   ]\n",
            " [1.    0.5   1.    0.    0.    0.   ]\n",
            " [1.    0.727 0.706 1.    0.    0.   ]\n",
            " [1.    0.857 0.41  0.835 1.    0.   ]\n",
            " [1.    0.941 0.178 0.426 0.789 1.   ]] \n",
            "\n",
            "U\n",
            " [[ 3.000e+00  3.000e+00  3.000e+00  3.000e+00  3.000e+00  3.000e+00]\n",
            " [ 0.000e+00 -2.250e+00 -2.571e+00 -2.700e+00 -2.769e+00 -2.812e+00]\n",
            " [ 0.000e+00  0.000e+00 -3.506e-01 -5.786e-01 -7.330e-01 -8.438e-01]\n",
            " [ 0.000e+00  0.000e+00  0.000e+00  2.421e-02  4.866e-02  6.961e-02]\n",
            " [ 0.000e+00  0.000e+00  0.000e+00  0.000e+00 -6.462e-04 -1.516e-03]\n",
            " [ 0.000e+00  0.000e+00  0.000e+00  0.000e+00  0.000e+00  6.730e-06]] \n",
            "\n",
            "A= P@L@U\n",
            " [[3.    3.    3.    3.    3.    3.   ]\n",
            " [3.    1.875 1.364 1.071 0.882 0.75 ]\n",
            " [3.    1.364 0.882 0.652 0.517 0.429]\n",
            " [3.    1.071 0.652 0.469 0.366 0.3  ]\n",
            " [3.    0.882 0.517 0.366 0.283 0.231]\n",
            " [3.    0.75  0.429 0.3   0.231 0.188]] \n",
            "\n",
            "A\n",
            " [[3.    3.    3.    3.    3.    3.   ]\n",
            " [3.    1.875 1.364 1.071 0.882 0.75 ]\n",
            " [3.    1.364 0.882 0.652 0.517 0.429]\n",
            " [3.    1.071 0.652 0.469 0.366 0.3  ]\n",
            " [3.    0.882 0.517 0.366 0.283 0.231]\n",
            " [3.    0.75  0.429 0.3   0.231 0.188]] \n",
            "\n",
            "L@u - A\n",
            " [[ 0.  0.  0.  0.  0.  0.]\n",
            " [ 0.  0.  0.  0.  0.  0.]\n",
            " [ 0.  0.  0.  0.  0. -0.]\n",
            " [ 0.  0.  0.  0.  0. -0.]\n",
            " [ 0.  0.  0.  0.  0. -0.]\n",
            " [ 0.  0. -0. -0.  0.  0.]] \n",
            "\n"
          ]
        }
      ]
    },
    {
      "cell_type": "code",
      "metadata": {
        "colab": {
          "base_uri": "https://localhost:8080/"
        },
        "id": "Ea5i2TSF1RPx",
        "outputId": "47bd71fd-00ad-4378-f677-dd8a146cfdf7"
      },
      "source": [
        "A[1, 1] = 3\n",
        "\n",
        "P, L, U, = diy_lu_column_pivot_reconstruct(A1)\n",
        "\n",
        "print(\"P\\n\",P, \"\\n\")\n",
        "print(\"L\\n\",L, \"\\n\")\n",
        "print(\"U\\n\",U, \"\\n\")\n",
        "print(\"A= P@L@U\\n\", P@L@U, \"\\n\")\n",
        "print(\"A\\n\",A, \"\\n\")\n",
        "\n",
        "# Quick sanity check: L times U must equal the original matrix, up to floating-point errors.\n",
        "print(\"L@u - A\\n\",np.round(P@L@U-A,3), \"\\n\")"
      ],
      "execution_count": 41,
      "outputs": [
        {
          "output_type": "stream",
          "name": "stdout",
          "text": [
            "P\n",
            " [[1. 0. 0. 0. 0. 0.]\n",
            " [0. 0. 1. 0. 0. 0.]\n",
            " [0. 0. 0. 1. 0. 0.]\n",
            " [0. 0. 0. 0. 1. 0.]\n",
            " [0. 0. 0. 0. 0. 1.]\n",
            " [0. 1. 0. 0. 0. 0.]] \n",
            "\n",
            "L\n",
            " [[1.    0.    0.    0.    0.    0.   ]\n",
            " [1.    1.    0.    0.    0.    0.   ]\n",
            " [1.    0.5   1.    0.    0.    0.   ]\n",
            " [1.    0.727 0.706 1.    0.    0.   ]\n",
            " [1.    0.857 0.41  0.835 1.    0.   ]\n",
            " [1.    0.941 0.178 0.426 0.789 1.   ]] \n",
            "\n",
            "U\n",
            " [[ 3.000e+00  3.000e+00  3.000e+00  3.000e+00  3.000e+00  3.000e+00]\n",
            " [ 0.000e+00 -2.250e+00 -2.571e+00 -2.700e+00 -2.769e+00 -2.812e+00]\n",
            " [ 0.000e+00  0.000e+00 -3.506e-01 -5.786e-01 -7.330e-01 -8.438e-01]\n",
            " [ 0.000e+00  0.000e+00  0.000e+00  2.421e-02  4.866e-02  6.961e-02]\n",
            " [ 0.000e+00  0.000e+00  0.000e+00  0.000e+00 -6.462e-04 -1.516e-03]\n",
            " [ 0.000e+00  0.000e+00  0.000e+00  0.000e+00  0.000e+00  6.730e-06]] \n",
            "\n",
            "A= P@L@U\n",
            " [[3.    3.    3.    3.    3.    3.   ]\n",
            " [3.    1.875 1.364 1.071 0.882 0.75 ]\n",
            " [3.    1.364 0.882 0.652 0.517 0.429]\n",
            " [3.    1.071 0.652 0.469 0.366 0.3  ]\n",
            " [3.    0.882 0.517 0.366 0.283 0.231]\n",
            " [3.    0.75  0.429 0.3   0.231 0.188]] \n",
            "\n",
            "A\n",
            " [[3.    3.    3.    3.    3.    3.   ]\n",
            " [3.    3.    1.364 1.071 0.882 0.75 ]\n",
            " [3.    1.364 0.882 0.652 0.517 0.429]\n",
            " [3.    1.071 0.652 0.469 0.366 0.3  ]\n",
            " [3.    0.882 0.517 0.366 0.283 0.231]\n",
            " [3.    0.75  0.429 0.3   0.231 0.188]] \n",
            "\n",
            "L@u - A\n",
            " [[ 0.     0.     0.     0.     0.     0.   ]\n",
            " [ 0.    -1.125  0.     0.     0.     0.   ]\n",
            " [ 0.     0.     0.     0.     0.    -0.   ]\n",
            " [ 0.     0.     0.     0.     0.    -0.   ]\n",
            " [ 0.     0.     0.     0.     0.    -0.   ]\n",
            " [ 0.     0.    -0.    -0.     0.     0.   ]] \n",
            "\n"
          ]
        }
      ]
    },
    {
      "cell_type": "code",
      "source": [
        "from scipy import linalg\n",
        "\n",
        "P,L,U = linalg.lu(A)\n",
        "\n",
        "print(\"P\\n\",P, \"\\n\")\n",
        "print(\"L\\n\",L, \"\\n\")\n",
        "print(\"U\\n\",U, \"\\n\")\n",
        "print(\"A= P@L@U\\n\", P@L@U, \"\\n\")\n",
        "print(\"A\\n\",A, \"\\n\")\n",
        "\n",
        "# Quick sanity check: L times U must equal the original matrix, up to floating-point errors.\n",
        "print(\"L@u - A\\n\",np.round(P@L@U-A,3), \"\\n\")"
      ],
      "metadata": {
        "colab": {
          "base_uri": "https://localhost:8080/"
        },
        "id": "6odsHUNwqGzD",
        "outputId": "50ea6cf5-d774-488f-e482-154646480e91"
      },
      "execution_count": 42,
      "outputs": [
        {
          "output_type": "stream",
          "name": "stdout",
          "text": [
            "P\n",
            " [[1. 0. 0. 0. 0. 0.]\n",
            " [0. 0. 1. 0. 0. 0.]\n",
            " [0. 0. 0. 1. 0. 0.]\n",
            " [0. 0. 0. 0. 1. 0.]\n",
            " [0. 0. 0. 0. 0. 1.]\n",
            " [0. 1. 0. 0. 0. 0.]] \n",
            "\n",
            "L\n",
            " [[ 1.     0.     0.     0.     0.     0.   ]\n",
            " [ 1.     1.     0.     0.     0.     0.   ]\n",
            " [ 1.    -0.     1.     0.     0.     0.   ]\n",
            " [ 1.     0.727  0.151  1.     0.     0.   ]\n",
            " [ 1.     0.857  0.088  0.514  1.     0.   ]\n",
            " [ 1.     0.941  0.038  0.208  0.641  1.   ]] \n",
            "\n",
            "U\n",
            " [[ 3.000e+00  3.000e+00  3.000e+00  3.000e+00  3.000e+00  3.000e+00]\n",
            " [ 0.000e+00 -2.250e+00 -2.571e+00 -2.700e+00 -2.769e+00 -2.812e+00]\n",
            " [ 0.000e+00  0.000e+00 -1.636e+00 -1.929e+00 -2.118e+00 -2.250e+00]\n",
            " [ 0.000e+00  0.000e+00  0.000e+00 -9.247e-02 -1.485e-01 -1.856e-01]\n",
            " [ 0.000e+00  0.000e+00  0.000e+00  0.000e+00  1.841e-03  3.821e-03]\n",
            " [ 0.000e+00  0.000e+00  0.000e+00  0.000e+00  0.000e+00 -1.233e-05]] \n",
            "\n",
            "A= P@L@U\n",
            " [[3.    3.    3.    3.    3.    3.   ]\n",
            " [3.    3.    1.364 1.071 0.882 0.75 ]\n",
            " [3.    1.364 0.882 0.652 0.517 0.429]\n",
            " [3.    1.071 0.652 0.469 0.366 0.3  ]\n",
            " [3.    0.882 0.517 0.366 0.283 0.231]\n",
            " [3.    0.75  0.429 0.3   0.231 0.188]] \n",
            "\n",
            "A\n",
            " [[3.    3.    3.    3.    3.    3.   ]\n",
            " [3.    3.    1.364 1.071 0.882 0.75 ]\n",
            " [3.    1.364 0.882 0.652 0.517 0.429]\n",
            " [3.    1.071 0.652 0.469 0.366 0.3  ]\n",
            " [3.    0.882 0.517 0.366 0.283 0.231]\n",
            " [3.    0.75  0.429 0.3   0.231 0.188]] \n",
            "\n",
            "L@u - A\n",
            " [[ 0.  0.  0.  0.  0.  0.]\n",
            " [ 0.  0.  0.  0.  0.  0.]\n",
            " [ 0.  0.  0.  0.  0. -0.]\n",
            " [ 0.  0.  0.  0.  0.  0.]\n",
            " [ 0.  0.  0.  0.  0. -0.]\n",
            " [ 0.  0. -0. -0.  0.  0.]] \n",
            "\n"
          ]
        }
      ]
    },
    {
      "cell_type": "markdown",
      "source": [
        "![imagen.png](data:image/png;base64,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)"
      ],
      "metadata": {
        "id": "Qf0UgxNe90ho"
      }
    }
  ]
}