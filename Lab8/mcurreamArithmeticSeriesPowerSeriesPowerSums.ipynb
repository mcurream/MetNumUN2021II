{
  "nbformat": 4,
  "nbformat_minor": 0,
  "metadata": {
    "colab": {
      "name": "mcurreamArithmeticSeriesPowerSeriesPowerSums.ipynb",
      "provenance": [],
      "collapsed_sections": []
    },
    "kernelspec": {
      "name": "python3",
      "display_name": "Python 3"
    }
  },
  "cells": [
    {
      "cell_type": "markdown",
      "metadata": {
        "id": "c3yA6JE1wmSH"
      },
      "source": [
        "# Arithmetic Series\n",
        "\n",
        "### Miguel Currea M. - Alg. G1"
      ]
    },
    {
      "cell_type": "markdown",
      "metadata": {
        "id": "r4rXWI4gCN5B"
      },
      "source": [
        "## Modified from Arithmetic Series -  [Wolfram MathWorld](https://mathworld.wolfram.com/ArithmeticSeries.html)\n",
        "\n",
        "\n",
        "An arithmetic sequence $\\{a_k\\}$ for $k=1, 2, ..., $ in which each term is computed from the previous one by adding (or subtracting) a constant $d$. \n",
        "\n",
        "\\begin{align*}\n",
        "a_1 & \\\\\n",
        "a_2 &\\ \\ =\\ \\ a_1 + d  \\\\\n",
        "a_3 &\\ \\ =\\ \\ a_2 + d \\ \\ =\\ \\ a_1 + 2d   \\\\\n",
        "a_4 &\\ \\ =\\ \\ a_3 + d \\ \\ =\\ \\ a_2 + 2d \\ \\ =\\ \\ a_1 + 3d  \\\\\n",
        "\\vdots\\\\\n",
        "a_k &\\ \\ =\\ \\ a_{(k-1)}+d \\ =\\  a_{(k-2)}+2d \\ =\\  \\ldots \\ =\\  \\ a_1+(k-1)d\n",
        "\\end{align*}\n",
        "\n",
        "Therefore, for $k>=1$,\n",
        "\n",
        "$$ a_k = a_1 + (k-1)d$$\n",
        "\n",
        "With $a_1$ and $d$ given.\n",
        "\n",
        "<br /> \n",
        "\n",
        "The sequence of the partial sum of the first $n$ terms of a sequence is called a series, in the case of an arithemetic sequence the series is called an arithmetic series.\n",
        "\n",
        "If  $a_1= 1$ and $d=1$ we have, the simplest arithmnetic sequence,  the natural numbers sequence $\\{a_k = k \\}$ for  $k=1, 2, ..., $  i.e. the seuqnece\n",
        "$$1, 2, ...,$$\n",
        "The  corresponmding series is \n",
        "$$ \n",
        "S_n = 1 + 2+ \\ldots + (n-1)+ n = \\sum_{k=1}^n k\n",
        "$$\n",
        "can be calculated as a function of $n$.\n",
        "\n",
        "Assume that we allign one $S_{n-1}$ with a second  $S_{n-1}$ that have the terms adden reverse order and you add term to term, we have\n",
        "\\begin{array}{llclclclclc}\n",
        "  S_{n-1} &=& 1 &+& 2 &+& \\ldots &+& (n-2) &+& (n-1) \\\\\n",
        "  S_{n-1} &=& (n-1)  &+& (n-2)  &+& \\ldots   &+& 2   &+& 1 \\\\\n",
        "   \\hline \\\\\n",
        "   2S_{n-1} &=& n  &+& n  &+& \\ldots   &+& n   &+& n \\\\\n",
        "\\end{array}\n",
        "so\n",
        "$$  2S_{n-1} = (n-1)n $$\n",
        "then\n",
        "$$  S_{n-1} = \\frac{1}{2} (n-1)n$$\n",
        "therefore \n",
        "$$  S_{n} = \\frac{1}{2} n(n+1)$$\n",
        "\n",
        "\n",
        "\\begin{align*}\n",
        "S_n &= \\sum_{k=1}^n a_k\t\\\\\n",
        "    &= \\sum_{k=1}^n[a_1+(k-1)d]\t\t\\\\\n",
        "    &= na_1 + d \\sum_{k=1}^n(k-1)\t\\\\\n",
        "    &= na_1 + d \\sum_{k=0}^{n-1} k\t\\\\\n",
        "    &= na_1 + d \\sum_{k=1}^{n-1} k\t\\\\\n",
        "    &= na_1 +  \\frac{1}{2} d(n-1)n\\\\\n",
        "\\end{align*}\n",
        "so \n",
        "$$ S_n =  \\frac{1}{2} n[2 a_1 +d(n-1)].$$\n",
        "\n",
        "Note, however, that\n",
        "$$a_1+a_n=a_1+[a_1+d(n-1)]=2a_1+d(n-1),$$ \t\n",
        "so\n",
        "$$S_n = \\frac{1}{2}n(a_1+a_n),$$\n",
        "\n",
        "\n",
        "or $n$ times the arithmetic mean of the first and last terms! This is the trick Gauss used as a schoolboy to solve the problem of summing the integers from $1$ to $100$ given as busy-work by his teacher. While his classmates toiled away doing the addition longhand, Gauss wrote a single number, the correct answer\n",
        "\n",
        "$$\\frac{1}{2}(100)(1+100)=50·101=5050$$ \t\n",
        "on his slate (Burton 1989, pp. 80-81; Hoffman 1998, p. 207). When the answers were examined, Gauss's proved to be the only correct one.\n",
        "\n",
        "<br /> \n",
        "\n",
        "If  the sequence starts at index $0$, $\\{a_k\\}$ for $ k=0, 1, 2, ..., $ we have\n",
        "\n",
        "\\begin{align*}\n",
        "a_0 & \\\\\n",
        "a_1 &\\ \\ =\\ \\ a_0 + d  \\\\\n",
        "a_2 &\\ \\ =\\ \\ a_1 + d \\ \\ =\\ \\ a_0 + 2d   \\\\\n",
        "a_3 &\\ \\ =\\ \\ a_2 + d \\ \\ =\\ \\ a_1 + 2d \\ \\ =\\ \\ a_0 + 3d  \\\\\n",
        "\\vdots\\\\\n",
        "a_k &\\ \\ =\\ \\ a_{(k-1)}+d \\ =\\  a_{(k-2)}+2d \\ =\\  \\ldots \\ = \\  \\ a_1+(k-1)d \\ \\ =\\ \\ a_0+kd\n",
        "\\end{align*}\n",
        "\n",
        "<br /> \n",
        "for given   $a_0$ and $d$.\n",
        "\n",
        "In this case the sum of the first $n$ terms  of  the arithemnetic sequence  is then given by\n",
        "\\begin{align*}\n",
        "S_n &= \\sum_{k=0}^{n-1} a_k\t\\\\\n",
        "    &= \\sum_{k=0}^{n-1}[a_0+kd]\t\t\\\\\n",
        "    &= n a_0 + d \\sum_{k=0}^{n-1} k\t\\\\\n",
        "    &= n a_0 + d \\sum_{k=1}^{n-1} k\t\\\\\n",
        "    &= n a_0+  \\frac{1}{2} d(n-1)n \\\\\n",
        "\\end{align*}\n",
        "so \n",
        "$$ S_n =  \\frac{1}{2} n[2 a_0 + d(n-1)].$$\n",
        "<br /> \n",
        "\n"
      ]
    },
    {
      "cell_type": "markdown",
      "metadata": {
        "id": "GfBh-QHRcods"
      },
      "source": [
        "### Code\n",
        "####  The simplest arithmetic sequence and series\n",
        "\n",
        "The simplest arithmnetic sequence is \n",
        "\n",
        "\n",
        "$$S_n = 1, 2, ...,$$"
      ]
    },
    {
      "cell_type": "markdown",
      "metadata": {
        "id": "n36eWqEXiktl"
      },
      "source": [
        "The following code plots the first $n = 15$ terms of the simplest arithmnetic sequence \n",
        "$$\\{a_n = n\\} \\text{ for } n =1,2,\\ldots  $$\n",
        "i.e\n",
        "$$\\{a_n = n\\} =1,2,\\ldots $$\n",
        "adn the corresponding terms of the simplest arithmnetic series \n",
        "$$  S_n = 1 + 2+ \\ldots + (n-1)+ n = \\sum_{k=1}^n =  \\frac{1}{2} n(n+1)$$\n"
      ]
    },
    {
      "cell_type": "markdown",
      "metadata": {
        "id": "_VyGiunIZknK"
      },
      "source": [
        "Plot"
      ]
    },
    {
      "cell_type": "code",
      "metadata": {
        "colab": {
          "base_uri": "https://localhost:8080/",
          "height": 283
        },
        "id": "gx3Q4uo-ONCi",
        "outputId": "433f06c8-bb7f-4ba7-91ea-1c063bd8fb22"
      },
      "source": [
        "import matplotlib.pyplot as plt\n",
        "\n",
        "n = 15\n",
        "S_n = 0\n",
        "Serie_S_n=[]\n",
        "Sequence_a_n =[]\n",
        "for i in range(1,n+1):\n",
        "  S_n = S_n + i\n",
        "  Serie_S_n.append(S_n)\n",
        "  Sequence_a_n.append(i)\n",
        " \n",
        "plt.plot(Serie_S_n, color='black',label='Serie_S_n')\n",
        "plt.plot(Sequence_a_n, color='red',label='Sequence_a_n')\n",
        "plt.legend()\n",
        "\n",
        "\n"
      ],
      "execution_count": 8,
      "outputs": [
        {
          "output_type": "execute_result",
          "data": {
            "text/plain": [
              "<matplotlib.legend.Legend at 0x7fa8119a2350>"
            ]
          },
          "metadata": {
            "tags": []
          },
          "execution_count": 8
        },
        {
          "output_type": "display_data",
          "data": {
            "image/png": "[encoded data removed]",
            "text/plain": [
              "<Figure size 432x288 with 1 Axes>"
            ]
          },
          "metadata": {
            "tags": [],
            "needs_background": "light"
          }
        }
      ]
    },
    {
      "cell_type": "markdown",
      "metadata": {
        "id": "0ybfJdHxZGvW"
      },
      "source": [
        "The following code computes the  $n=10000000$  term of the airthmetic series\n",
        "$$  S_n = 1 + 2+ \\ldots + (n-1)+ n = \\sum_{k=1}^n =  \\frac{1}{2} n(n+1)$$"
      ]
    },
    {
      "cell_type": "code",
      "metadata": {
        "colab": {
          "base_uri": "https://localhost:8080/"
        },
        "id": "99xYHDQycnol",
        "outputId": "fd0898b5-aed3-4353-d9ca-eb0e77456d99"
      },
      "source": [
        "n = 10000000\n",
        "S_n = 0\n",
        "for i in range(1,n+1):  # range(n+1) goes form 1 to n\n",
        "  S_n = S_n + i \n",
        "print(S_n)"
      ],
      "execution_count": 9,
      "outputs": [
        {
          "output_type": "stream",
          "text": [
            "50000005000000\n"
          ],
          "name": "stdout"
        }
      ]
    },
    {
      "cell_type": "code",
      "metadata": {
        "colab": {
          "base_uri": "https://localhost:8080/"
        },
        "id": "RGCSuDGHeFwH",
        "outputId": "4ff10589-028c-4b6a-fe3d-21f6a876339f"
      },
      "source": [
        "(1/2)*n*(n+1)"
      ],
      "execution_count": 10,
      "outputs": [
        {
          "output_type": "execute_result",
          "data": {
            "text/plain": [
              "50000005000000.0"
            ]
          },
          "metadata": {
            "tags": []
          },
          "execution_count": 10
        }
      ]
    },
    {
      "cell_type": "markdown",
      "metadata": {
        "id": "bg8zxAhcecpk"
      },
      "source": [
        "The following code computes the $n=10000000$ term of the airthmetic series \n",
        "$$ S_n  = \\sum_{k=1}^n a_k$$\n",
        "\n",
        "<br /> \n",
        "for the airthmetic sequence $a_k = 10 + 3 (k-1) $ for $k=1,2,\\ldots$\n",
        "\n",
        "<br /> \n",
        "$$ 10,13,16,19,21,\\ldots$$\n"
      ]
    },
    {
      "cell_type": "markdown",
      "metadata": {
        "id": "hg3ixQ3bZiVh"
      },
      "source": [
        "Plot"
      ]
    },
    {
      "cell_type": "code",
      "metadata": {
        "colab": {
          "base_uri": "https://localhost:8080/"
        },
        "id": "w8FP1XqSgnie",
        "outputId": "cebcf673-b733-496e-bc17-4a329a1f861c"
      },
      "source": [
        "n = 10000000\n",
        "a = 10\n",
        "d = 3\n",
        "S_n = 0\n",
        "for i in range(1,n+1):  # range(n+19 goes form 1 to n\n",
        "  S_n = S_n + a + d * (i-1) \n",
        "print(S_n)"
      ],
      "execution_count": 14,
      "outputs": [
        {
          "output_type": "stream",
          "text": [
            "150000085000000\n"
          ],
          "name": "stdout"
        }
      ]
    },
    {
      "cell_type": "code",
      "metadata": {
        "colab": {
          "base_uri": "https://localhost:8080/"
        },
        "id": "g_38RfB_hgg2",
        "outputId": "532bd63c-2e30-4b07-cbcb-dfa1386f10da"
      },
      "source": [
        "n*(2*a +d*(n-1))/2"
      ],
      "execution_count": 15,
      "outputs": [
        {
          "output_type": "execute_result",
          "data": {
            "text/plain": [
              "150000085000000.0"
            ]
          },
          "metadata": {
            "tags": []
          },
          "execution_count": 15
        }
      ]
    },
    {
      "cell_type": "markdown",
      "metadata": {
        "id": "r9qzONSlZq2q"
      },
      "source": [
        "## Your own example of arithmetic series "
      ]
    },
    {
      "cell_type": "markdown",
      "metadata": {
        "id": "BruFNcwszo_k"
      },
      "source": [
        "###Sum of the Squares of the First $n$ Positive Integers\n",
        "\n",
        "making use of the previous statement, that correponds to the sum of the first $n$ integers based on the Gauss formula, we can in fact find the sum of the first $n$ squared positive integers.\n",
        "\n",
        "We start with the binomial expansion of $(k-1)^3:$ (based on the telescopic series method that also describes $S_n = \\frac{n(n+1)}{2}$)\n",
        "\n",
        "$$(k−1)^3 = k^3 − 3k^2 + 3k−1$$\n",
        "\n",
        "summing the left side from $k=1$\n",
        "\n",
        "$$\\sum_{k=1}^n (k−1)^3 = 3(\\sum_{k=1}^n ​k^2) − 3(\\sum_{k=1}^n ​k) + \\sum_{k=1}^n 1 $$\n",
        "\n",
        "$$n^3 = 3(\\sum_{k=1}^n ​k^2) − 3(\\frac{n(n+1)}{2}) + n $$\n",
        "\n",
        "$$3(\\sum_{k=1}^n ​k^2) = n^3 + 3(\\frac{n(n+1)}{2}) - n $$\n",
        "\n",
        "$$\\sum_{k=1}^n ​k^2 = \\frac{1}{3}n^3 + \\frac{1}{2}n^2 + \\frac{1}{6} n $$\n",
        "\n",
        "$$\\hspace{1.5cm} = \\frac{n(n+1)(2n+1)}{6} $$\n",
        "\n",
        "in that way the sum of the squares of the first 100 positive integers is:\n",
        "\n",
        "Plugging in $n=100$,\n",
        "\n",
        "$$1^2+2^2+3^2+4^2+\\dots + 100^2 = \\frac{100(101)(201)}{6} = \\frac{2030100}{6} = 338350.\\ _\\square$$\n",
        "\n",
        "\n",
        "\n"
      ]
    },
    {
      "cell_type": "code",
      "metadata": {
        "id": "sJ1yhp4lNVw9",
        "colab": {
          "base_uri": "https://localhost:8080/"
        },
        "outputId": "851f8edd-57f7-4dbb-85a1-d767af8da7af"
      },
      "source": [
        "# Python3\n",
        "\n",
        "# finding the sum of squares of first n positive integers  \n",
        "  \n",
        "def squaresum(n) :\n",
        "    \n",
        "    S_m = 0\n",
        "    for i in range(1, n+1):\n",
        "        S_m = S_m + (i * i)\n",
        "      \n",
        "    return S_m\n",
        "  \n",
        "# Main program\n",
        "\n",
        "n = 100\n",
        "print(\"The sum of the squares of \" + str(n) + \" is equal to: \" + str(squaresum(n)))"
      ],
      "execution_count": 23,
      "outputs": [
        {
          "output_type": "stream",
          "text": [
            "The sum of the squares of 100 is equal to: 338350\n"
          ],
          "name": "stdout"
        }
      ]
    },
    {
      "cell_type": "code",
      "metadata": {
        "colab": {
          "base_uri": "https://localhost:8080/"
        },
        "id": "dxouMzptQ1aq",
        "outputId": "567c24de-e7ac-4506-dc47-6213a6ff2ff3"
      },
      "source": [
        "n = 100\n",
        "(n*(n+1)*(2*n+1))/6"
      ],
      "execution_count": 20,
      "outputs": [
        {
          "output_type": "execute_result",
          "data": {
            "text/plain": [
              "338350.0"
            ]
          },
          "metadata": {
            "tags": []
          },
          "execution_count": 20
        }
      ]
    },
    {
      "cell_type": "code",
      "metadata": {
        "colab": {
          "base_uri": "https://localhost:8080/",
          "height": 283
        },
        "id": "FXpuNDRoQA18",
        "outputId": "7df87335-760c-4672-9dbe-d9c7b3e4324e"
      },
      "source": [
        "n = 30\n",
        "S_n = 0\n",
        "S_m = 0\n",
        "Serie_S_n=[]\n",
        "Serie_S_m=[]\n",
        "Sequence_a_n =[]\n",
        "\n",
        "for i in range(1,n+1):\n",
        "  S_n = S_n + i\n",
        "  S_m = S_m + (i * i)\n",
        "  Serie_S_n.append(S_n)\n",
        "  Serie_S_m.append(S_m)\n",
        "  Sequence_a_n.append(i)\n",
        " \n",
        "plt.plot(Serie_S_n, color='black',label='Serie_S_n')\n",
        "plt.plot(Serie_S_m, color='blue',label='Serie_S_m')\n",
        "plt.plot(Sequence_a_n, color='red',label='Sequence_a_n')\n",
        "\n",
        "plt.legend()"
      ],
      "execution_count": 13,
      "outputs": [
        {
          "output_type": "execute_result",
          "data": {
            "text/plain": [
              "<matplotlib.legend.Legend at 0x7fa8119753d0>"
            ]
          },
          "metadata": {
            "tags": []
          },
          "execution_count": 13
        },
        {
          "output_type": "display_data",
          "data": {
            "image/png": "[encoded data removed]",
            "text/plain": [
              "<Figure size 432x288 with 1 Axes>"
            ]
          },
          "metadata": {
            "tags": [],
            "needs_background": "light"
          }
        }
      ]
    },
    {
      "cell_type": "code",
      "metadata": {
        "colab": {
          "base_uri": "https://localhost:8080/"
        },
        "id": "qu_Kfk73RVEB",
        "outputId": "7be60d95-3257-4376-d8c7-a061a1f75e27"
      },
      "source": [
        "n = 1000002\n",
        "S_m = 0\n",
        "for i in range(1, n+1):\n",
        "  S_m = S_m + (i * i)\n",
        "\n",
        "print(S_m)        "
      ],
      "execution_count": 24,
      "outputs": [
        {
          "output_type": "stream",
          "text": [
            "333335833339500005\n"
          ],
          "name": "stdout"
        }
      ]
    },
    {
      "cell_type": "markdown",
      "metadata": {
        "id": "AKWJ1F7hac8T"
      },
      "source": [
        "# Geometric Series\n",
        "\n",
        "## Modified from Arithmetic Series -  [Wolfram MathWorld](https://mathworld.wolfram.com/GeometricSeries.html)\n"
      ]
    },
    {
      "cell_type": "markdown",
      "metadata": {
        "id": "W5zx_-nR81GI"
      },
      "source": [
        "An geometric series is the sum of a sequence $\\{a_k\\}$ for $k=1, 2, ..., $ in which each term is computed from the previous one by adding (or subtracting) a constant $d$. \n",
        "\n",
        "\\begin{align*}\n",
        "a_0 &\\ \\ =\\ \\ r^0 \\ \\ =\\ \\ 1\\\\\n",
        "a_1 &\\ \\ =\\ \\ a_0 *  r \\ \\ =\\ \\  r\\\\\n",
        "a_2 &\\ \\ =\\ \\ a_1 * r\\ \\ =\\ \\ a_0 * r^2  \\ \\ =\\ \\ r^2 \\\\\n",
        "a_3 &\\ \\ =\\ \\ a_2 * r \\ \\ =\\ \\ a_0 * r^3 \\ \\ =\\ \\  r^3  \\\\\n",
        "a_4 &\\ \\ =\\ \\ a_3 * r\\ \\  =\\ \\ a_0 * r^4 \\ \\  =\\ \\ r^4  \\\\\n",
        "\\vdots\\\\\n",
        "a_k &\\ \\ =\\ \\ a_{(k-1)}* r \\ =\\   a_0 * r^k \\ \\  =\\ \\  r^k\n",
        "\\end{align*}\n",
        "\n",
        "The sum of the first $n$ terms  of  the geometric sequence (called an geometric serie)  is then given by\n",
        "$$\n",
        "\\begin{array}{ll}\n",
        "S_n &=  1 + r + r^2 + \\cdots + r^{n-1} +r^n \\\\\n",
        " &=  (1 + r + r^2 + \\cdots + r^{n-1} ) +r^n \\\\\n",
        " &= S_{n-1}  +r^n \n",
        "\\end{array}\n",
        "$$\n",
        "\n",
        "$$\n",
        "\\begin{array}{ll}\n",
        "S_n &=  1 + r + r^2 + \\cdots + r^{n-1} +r^n \\\\\n",
        " &=  1 + (r + r^2 + \\cdots + r^{n-1}  +r^n)  \\\\\n",
        " &=   1 + r (1 +  r  + r^2 + \\cdots + r^{n-1} )  \\\\\n",
        "  &=   1 + r   S_{n-1} \n",
        "\\end{array}\n",
        "$$\n",
        "\n",
        "Then\n",
        "$$\n",
        " S_{n-1}  +r^n =   1 + r   S_{n-1} \n",
        "$$\n",
        "\n",
        "Therefore\n",
        "$$\n",
        " S_{n-1} (1 -r)   +r^n =   1 - r^n \n",
        "$$\n",
        "\n",
        "$$\n",
        " S_{n-1}   =   \\frac{1 - r^n }{1 -r}\n",
        "$$\n",
        "\n",
        "$$\n",
        " S_{n}   =   \\frac{1 - r^{n+1} }{1 -r}  = \\frac{ r^{n+1} - 1}{r -1}\n",
        "$$\n"
      ]
    },
    {
      "cell_type": "markdown",
      "metadata": {
        "id": "CDUYfT8k8crr"
      },
      "source": [
        "## Nodes in Complete Binary Tree with $L=0,1,2,\\cdots , L-1$ levels \n",
        "\n",
        "![](https://raw.githubusercontent.com/gjhernandezp/algorithms/master/Lab7/ComBinTree.png)\n",
        "\n",
        "In a complete binary tree you have in ecah level $k =0,1,2,\\cdots $  $ 2^k $\n",
        "\n",
        "$$\n",
        "\\begin{array}{ll}\n",
        "\\text {Level } 0 \\rightarrow 2^0 = 1 \\text { node (root)} \\\\\n",
        "\\text {Level } 1 \\rightarrow 2^1 = 2 \\text { nodes} \\\\\n",
        "\\text {Level } 2 \\rightarrow 2^2 = 4 \\text { nodes} \\\\\n",
        "\\text {Level } 3 \\rightarrow 2^3 = 8 \\text { nodes} \\\\\n",
        "\\vdots\\\\\n",
        "\\text {Level } k \\rightarrow 2^k  \\text { nodes} \\\\\n",
        "\\end{array}\n",
        "$$\n",
        "\n",
        "nodes, with $l = 0,1,2, ... $ the level\n",
        "\n",
        "Total number of the complte tree with $L=0,1,2,\\cdots , L-1$ levels\n",
        "\n",
        "$$ \n",
        "2^0 + 2^1 + 2^2 + \\cdots +2^{L-1}  = 1 + 2 + 4 + \\cdots +2^{L-1} = \\sum_{k=0}^{L-1} 2^k = \\frac{ 2^{L} - 1}{2 -1} = 2^{L} - 1\n",
        "$$"
      ]
    },
    {
      "cell_type": "markdown",
      "metadata": {
        "id": "YiWlrhLZNMX9"
      },
      "source": [
        "### Code"
      ]
    },
    {
      "cell_type": "code",
      "metadata": {
        "id": "YvMkYU8UNOll",
        "colab": {
          "base_uri": "https://localhost:8080/"
        },
        "outputId": "e180d336-cebb-4270-f84e-b2da6d91560b"
      },
      "source": [
        "# Python 3\n",
        "\n",
        "# Code from pythonEntertainment\n",
        "\n",
        "# Checking if a binary tree is a complete binary tree\n",
        "\n",
        "class Node:\n",
        "\n",
        "    def __init__(self, item):\n",
        "        self.item = item\n",
        "        self.left = None\n",
        "        self.right = None\n",
        "\n",
        "# Count the number of nodes\n",
        "def count_nodes(root):\n",
        "    if root is None:\n",
        "        return 0\n",
        "    return (1 + count_nodes(root.left) + count_nodes(root.right))\n",
        "\n",
        "# Check if the tree is complete binary tree\n",
        "def is_complete(root, index, numberNodes):\n",
        "\n",
        "    # Check if the tree is empty\n",
        "    if root is None:\n",
        "        return True\n",
        "\n",
        "    if index >= numberNodes:\n",
        "        return False\n",
        "\n",
        "    return (is_complete(root.left, 2 * index + 1, numberNodes)\n",
        "            and is_complete(root.right, 2 * index + 2, numberNodes))\n",
        "\n",
        "\n",
        "root = Node(1)\n",
        "root.left = Node(2)\n",
        "root.right = Node(3)\n",
        "root.left.left = Node(4)\n",
        "root.left.right = Node(5)\n",
        "root.right.left = Node(6)\n",
        "\n",
        "node_count = count_nodes(root)\n",
        "index = 0\n",
        "\n",
        "if is_complete(root, index, node_count):\n",
        "    print(\"The tree is a complete binary tree\")\n",
        "else:\n",
        "    print(\"The tree is not a complete binary tree\")"
      ],
      "execution_count": 25,
      "outputs": [
        {
          "output_type": "stream",
          "text": [
            "The tree is a complete binary tree\n"
          ],
          "name": "stdout"
        }
      ]
    },
    {
      "cell_type": "markdown",
      "metadata": {
        "id": "Dd3RWDwJe2xD"
      },
      "source": [
        "## Zenon Arrow\n",
        "\n",
        "![](https://raw.githubusercontent.com/gjhernandezp/algorithms/master/Lab7/zeno-paradox-arrow.png)\n",
        "\n",
        "Zeno of Elea lived in the fifth century BC. It is especially known for his mathematical paradoxes. Little is known about his life. The only sources are from the Parmenides of Plato and the writings of the Greek pre-Socratic to the Roman historian Diogenes Laertius.\n",
        "\n",
        "One of the paradoxes, the most famous perhaps concerned that arrow that never reaches its target: it must indeed still browse the moist path has left. If the distance to the target is, for example 100 meters, the arrow must travel 100/2 (half) + 100/4 (a quarter) + 100/8 (the eighth) + 100/16 (the sixteenth) + …. of the distance, and so to infinity. So il put a time infinite and therefore never reach its target.\n",
        "\n",
        "https://leseditionsdeschavonnes.com/2018/10/15/the-paradox-of-achilles-and-the-tortoise/\n",
        "\n",
        "$$ \n",
        "\\lim_{n\\rightarrow \\infty} \\left\\{\\left(\\frac{1}{2}\\right)^0 + \\left(\\frac{1}{2}\\right)^1 +\\left(\\frac{1}{2}\\right)^2 + \\cdots +\\left(\\frac{1}{2}\\right)^{n} \\right\\} = \\lim_{n\\rightarrow \\infty} \\left\\{ 1 +\\frac{1}{2} + \\frac{1}{4} + \\frac{1}{8} + \\cdots +\\frac{1}{2^{n}}\\right\\}  = \\lim_{n\\rightarrow \\infty} \\sum_{k=0}^{n} \\left(\\frac{1}{2}\\right)^k = \\lim_{n\\rightarrow \\infty} \\frac{ 1- \\left(\\frac{1}{2}\\right)^n  }{1 - \\left(\\frac{1}{2}\\right) } = \\frac{ 1}{1 - \\left(\\frac{1}{2}\\right)} = 2\n",
        "$$"
      ]
    },
    {
      "cell_type": "markdown",
      "metadata": {
        "id": "R-J4EekBNPkd"
      },
      "source": [
        "### Code"
      ]
    },
    {
      "cell_type": "code",
      "metadata": {
        "id": "8xdBovY3NEW_",
        "colab": {
          "base_uri": "https://localhost:8080/"
        },
        "outputId": "556c061a-5e17-4960-c033-84ccbda84a7b"
      },
      "source": [
        "# Python 3\n",
        "\n",
        "def zenos_paradox(archer_position, target_position, steps):\n",
        "    current = archer_position\n",
        "    print(\"The arrow is released at position \", archer_position)\n",
        "    print(\"It is aimed at postion \", target_position)\n",
        "\n",
        "    #Now we can count the steps, and determine the position.\n",
        "\n",
        "    for step in range(steps):\n",
        "        current = (current + target_position) / 2\n",
        "        print(\"Position of the arrow at step \", step+1, \"is \", current)\n",
        "    return(current)\n",
        "\n",
        "def answer_format():\n",
        "    answer = zenos_paradox(0,100,5)\n",
        "    print(\"The answer is: \", answer)\n",
        "\n",
        "answer_format()"
      ],
      "execution_count": 27,
      "outputs": [
        {
          "output_type": "stream",
          "text": [
            "The arrow is released at position  0\n",
            "It is aimed at postion  100\n",
            "Position of the arrow at step  1 is  50.0\n",
            "Position of the arrow at step  2 is  75.0\n",
            "Position of the arrow at step  3 is  87.5\n",
            "Position of the arrow at step  4 is  93.75\n",
            "Position of the arrow at step  5 is  96.875\n",
            "The answer is:  96.875\n"
          ],
          "name": "stdout"
        }
      ]
    },
    {
      "cell_type": "markdown",
      "metadata": {
        "id": "dh2ntBeoNQlN"
      },
      "source": [
        "# Power Sums \n",
        "\n",
        "## Modified from Arithmetic Series -  [Wolfram MathWorld](https://mathworld.wolfram.com/PowerSum.html)\n",
        "\n",
        " There are two kinds of power sums commonly considered. The first is the sum of $p^{th}$ powers of a set of n variables $x_k$,\n",
        " \n",
        "$$ S_p(x_1,...,x_n) = \\sum_{k=1}^n x_k^p $$\n",
        "\n",
        "and the second is the special case $x_k=k$, i.e.,\n",
        "\n",
        "$$ S_p(n) = \\sum_{k=1}^n k^p$$\n",
        "\n",
        "General power sums arise commonly in statistics. For example, k-statistics are most commonly defined in terms of power sums. Power sums are related to symmetric polynomials by the Newton-Girard formulas.\n",
        "\n",
        "The sum of $k$ times the kth power of $x$ is given analytically by\n",
        "\n",
        "$$ \\sum_{k=0}^n kx^k = \\frac{x-(n+1)x^{n+1} + nx^{n+2})}{(x-1)^2} $$\n",
        "\n",
        "Other analytic sums include \n",
        "\n",
        "$$(\\sum_{k=0}^{\\infty}x^k)^P\t=\t(1-x)^{-p}$$\t\n",
        "\n",
        "$$\\hspace{1.5cm} =\t\\frac{1}{(p-1)!} \\sum_{n=0}^{\\infty}\\frac{(n+p-1)!}{n!} x^n\t$$\n",
        "$$\\hspace{1.5cm} =\t\\frac{1}{(p-1)!} \\sum_{n=0}^{\\infty}(n+1)_{p-1}x^n $$\n",
        "\n",
        "for $|x| < 1 $, where $(n)_p$ is a Pochhammer symbol. The finite version has the elegant closed form:\n",
        "\n",
        "$$ \\sum_{k=0}^n x^k)^p = \\frac{1}{(p-1)!} \\sum_{k=0}^{np} \\frac{(n-|n-k|+p-1)!}{(n-|n-k|)!} x^k $$\n",
        "\n",
        "for p=1 and 2. An additional sum is given by \n",
        "\n",
        "$$(\\sum_{n=0}^{\\infty} a_n x^n)^2 = \\sum_{n=0}^{\\infty} a_n^2 x^{2n} +2 \\sum_{n=1; i+j=n; i<j}^{\\infty} a_i a_j x^n. $$ \n",
        "\n",
        "A double series solution for $S_p(n)$ is given by\n",
        "\n",
        "$$S_p(n) = \\sum_{i=1}^p \\sum_{j=0}^{i-1}(-1)^j(i-j)^p \\binom{n+p-i+1}{n-i} \\binom{p+1}{j}$$\n",
        "\n",
        "Computing the sums for $p=1$ , ... , $10$ gives \n",
        "\n",
        "$$\\sum_{k=1}^{n}k\t=\t\\frac{1}{2}(n^2+n)$$\t\n",
        "\n",
        "$$\\sum_{k=1}^{n}k^2\t=\t\\frac{1}{6}(2n^3+3n^2+n)$$\n",
        "\n",
        "$$\\sum_{k=1}^{n}k^3\t=\t\\frac{1}{4}(n^4+2n^3+n^2)$$\t\n",
        "\n",
        "$$\\sum_{k=1}^{n}k^4\t=\t\\frac{1}{30}(6n^5+15n^4+10n^3-n)$$\t\n",
        "\n",
        "$$\\sum_{k=1}^{n}k^5\t=\t\\frac{1}{12}(2n^6+6n^5+5n^4-n^2)$$\t\n",
        "\n",
        "$$\\sum_{k=1}^{n}k^6\t=\t\\frac{1}{42}(6n^7+21n^6+21n^5-7n^3+n)$$\t\n",
        "\n",
        "$$\\sum_{k=1}^{n}k^7\t=\\frac{1}{24}(3n^8+12n^7+14n^6-7n^4+2n^2)$$ \t\n",
        "\n",
        "$$\\sum_{k=1}^{n}k^8\t=\t\\frac{1}{90}(10n^9+45n^8+60n^7-42n^5+20n^3-3n)$$\t\n",
        "\n",
        "$$\\sum_{k=1}^{n}k^9\t=\t\\frac{1}{20}(2n^(10)+10n^9+15n^8-14n^6+10n^4-3n^2)$$\t\n",
        "\n",
        "$$\\sum_{k=1}^{n}k^{10}\t=\t\\frac{1}{66}(6n^{11}+33n^{10}+55n^9-66n^7+66n^5-33n^3+5n)$$\t\n",
        "\n",
        "![imagen.png](data:image/png;base64,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)\n",
        "\n",
        "A simple graphical proof of the special case of $S_1(n) = \\frac{n(n+1)}{2}$ can also be given by constructing a sequence of stacks of boxes, each 1 unit across and $k$ units high, where $k=1, 2, ..., n.$ Now add a rotated copy on top, as in the above figure. Note that the resulting figure has width $n$ and height $n+1$, and so has area $n(n+1)$. The desired sum is half this, so the area of the boxes in the sum is $n(n+1)/2$. Since the boxes are of unit width, this is also the value of the sum.\n",
        "\n",
        "\n",
        "*   https://www.researchgate.net/publication/331933608_The_Powers_Sums_Bernoulli_Numbers_Bernoulli_Polynomials_Rethinked\n",
        "*   https://en.wikipedia.org/wiki/Sums_of_powers\n",
        "\n"
      ]
    },
    {
      "cell_type": "markdown",
      "metadata": {
        "id": "21RVPiQpcI_1"
      },
      "source": [
        "##Code\n",
        "\n",
        "The idea is simple. We need to iterate through all number starting from 1. For every number, we recursively try all greater numbers and if we are able to find sum, we increment result."
      ]
    },
    {
      "cell_type": "code",
      "metadata": {
        "colab": {
          "base_uri": "https://localhost:8080/"
        },
        "id": "DAMnlkmcb8Nu",
        "outputId": "2220176b-d00b-4b79-f93d-4c84f137cef6"
      },
      "source": [
        "# Python 3\n",
        "\n",
        "# program to find number of ways to express a number as power sum of nth powers of numbers.\n",
        " \n",
        "def checkRecursive(num, rem_num, next_int, n, ans=0):\n",
        " \n",
        "    if (rem_num == 0):\n",
        "        ans += 1\n",
        " \n",
        "    r = int(num**(1 / n))\n",
        " \n",
        "    for i in range(next_int + 1, r + 1):\n",
        "        a = rem_num - int(i**n)\n",
        "        if a >= 0:\n",
        "            ans += checkRecursive(num, rem_num - int(i**n), i, n, 0)\n",
        "    return ans\n",
        " \n",
        "def check(x, n):\n",
        "    return checkRecursive(x, x, 0, n)\n",
        " \n",
        "# Main Program\n",
        "if __name__ == '__main__':\n",
        "    print(check(1000, 2))"
      ],
      "execution_count": 34,
      "outputs": [
        {
          "output_type": "stream",
          "text": [
            "1269\n"
          ],
          "name": "stdout"
        }
      ]
    }
  ]
}