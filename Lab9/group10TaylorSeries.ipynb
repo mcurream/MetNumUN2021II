{
  "nbformat": 4,
  "nbformat_minor": 0,
  "metadata": {
    "colab": {
      "name": "group10TaylorSeries.ipynb",
      "provenance": [],
      "collapsed_sections": []
    },
    "kernelspec": {
      "name": "python3",
      "display_name": "Python 3"
    },
    "language_info": {
      "name": "python"
    }
  },
  "cells": [
    {
      "cell_type": "markdown",
      "metadata": {
        "id": "eZUXhMuyFxHa"
      },
      "source": [
        "# ***1. Taylor Series in Python***\n",
        "\n"
      ]
    },
    {
      "cell_type": "markdown",
      "metadata": {
        "id": "auRdBoQwF4CK"
      },
      "source": [
        "![imagen.png](data:image/png;base64,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)"
      ]
    },
    {
      "cell_type": "markdown",
      "metadata": {
        "id": "uPBdJrQyF8s6"
      },
      "source": [
        "In this post, we will review how to create a Taylor Series with Python and for loops. Then we will refactor the Taylor Series into functions and compare the output of our Taylor Series functions to functions from Python's Standard Library.\n",
        "\n",
        "A Taylor Series is an infinite series of mathematical terms that when summed together approximate a mathematical function. A Taylor Series can be used to approximate $e^{x}$, and `cosine`.\n",
        "\n",
        "An example of a Taylor Series that approximates $e^{x}$ is below.\n",
        "\n",
        "$$e^x\\approx \\sum _{n=0}^{\\infty }\\left(\\frac{x^n}{n!}\\right)\\approx 1+x+\\frac{x^2}{2!}+\\frac{x^3}{3!}+\\frac{x^4}{4!}+\\cdot \\cdot \\cdot \\cdot $$\n",
        "\n",
        "We can see that each term in the Taylor Series expansion is dependent on that term's place in the series. Below is a chart that shows each term of the Taylor Series in a row. The columns of the table represent the term index, the mathematical term and, how to code that term in Python. Note that the `factorial()` function is part of the `math` module in Python's Standard Library.\n",
        "\n",
        "$\\begin{array}{ccc} Term\\:Index&Mathematical\\:Term&Term\\:coded\\:in\\:Python \\\\\n",
        "0 & x^0/0! & x**0/math.factorial(0)               \\\\\n",
        "1 & x^1/1! & x**1/math.factorial(1)              \\\\\n",
        "2 & x^2/2! & x**2/math.factorial(2)              \\\\\n",
        "3 & x^3/3! & x**3/math.factorial(3)              \\\\\n",
        "4 & x^4/4! & x**4/math.factorial(4)\n",
        "\\end{array}$"
      ]
    },
    {
      "cell_type": "markdown",
      "metadata": {
        "id": "fy29eRHVGGwq"
      },
      "source": [
        "## Code the Taylor Series by writing out each term individually"
      ]
    },
    {
      "cell_type": "markdown",
      "metadata": {
        "id": "NxGo20VbGJhy"
      },
      "source": [
        "We can combine these terms in a line of Python code to estimate $e^2$. The code below calculates the sum of the first five terms of the Taylor Series expansion of ex, where x=2. Note the ``math`` module needs to be imported before ``math.factorial()`` can be used."
      ]
    },
    {
      "cell_type": "code",
      "metadata": {
        "colab": {
          "base_uri": "https://localhost:8080/"
        },
        "id": "2Y0ywUgtGOnC",
        "outputId": "70e8fa62-ea8d-42e7-e70c-24616c177942"
      },
      "source": [
        "import math\n",
        "\n",
        "x = 2\n",
        "e_to_2 = x**0/math.factorial(0) + x**1/math.factorial(1) + x**2/math.factorial(2) + x**3/math.factorial(3) + x**4/math.factorial(4)\n",
        "print(e_to_2)"
      ],
      "execution_count": 1,
      "outputs": [
        {
          "output_type": "stream",
          "name": "stdout",
          "text": [
            "7.0\n"
          ]
        }
      ]
    },
    {
      "cell_type": "markdown",
      "metadata": {
        "id": "qgdAqH3PGSDS"
      },
      "source": [
        "Our Taylor Series approximation of $e^2$ was calculated as 7.0. Let's compare our Taylor Series approximation to Python's ``math.exp()`` function. Python's ``math.exp()`` function raises $e$ to any power. In our case, we want to use ``math.exp(2)`` because we want to calculate $e^2$."
      ]
    },
    {
      "cell_type": "code",
      "metadata": {
        "colab": {
          "base_uri": "https://localhost:8080/"
        },
        "id": "1-QXq2hSGUsq",
        "outputId": "686d955d-ee1a-44ce-c400-378f0aaa5c20"
      },
      "source": [
        "print(math.exp(2))"
      ],
      "execution_count": 2,
      "outputs": [
        {
          "output_type": "stream",
          "name": "stdout",
          "text": [
            "7.38905609893065\n"
          ]
        }
      ]
    },
    {
      "cell_type": "markdown",
      "metadata": {
        "id": "sY7XFJJcGXFt"
      },
      "source": [
        "Our Taylor Series approximation ``7.0`` is not that far off the calculated value ``7.389056...`` using Python's ``exp()`` function."
      ]
    },
    {
      "cell_type": "markdown",
      "metadata": {
        "id": "CjywUlA1GhmK"
      },
      "source": [
        "## Use a for loop to calculate a Taylor Series"
      ]
    },
    {
      "cell_type": "markdown",
      "metadata": {
        "id": "hKs9_I3mGkhq"
      },
      "source": [
        "If we want to get closer to the value of $e^x$, we need to add more terms to our Taylor Series. The problem is coding each individual term is time-consuming and repetitive. Instead of coding each term individually, we can use a for *loop*. A for *loop* is a repetition structure in Python that runs a section of code a specified number of times. The syntax for coding a for *loop* in Python using the ``range()`` function is below:\n",
        "\n",
        "```txt\n",
        "for <var> in range(<num>):\n",
        "    <code>\n",
        "```\n"
      ]
    },
    {
      "cell_type": "markdown",
      "metadata": {
        "id": "3-iHAdSUGppb"
      },
      "source": [
        "Where `<var>` is any valid Python variable name and `<num>` is an integer to determines how many times the `<code>` in the loop runs.\n",
        "\n",
        "We can recreate our approximation of $e^2$ with 5 terms using a for *loop*. Note we need to set the variable `e_to_2` to `0` before the loop starts. The mathematical operator `+=` in the line `e_to_2 += x**i/math.factorial(i)` is equivalent to `e_to_2 = e_to_2 + x**i/math.factorial(i)`."
      ]
    },
    {
      "cell_type": "code",
      "metadata": {
        "colab": {
          "base_uri": "https://localhost:8080/"
        },
        "id": "qaLWLo6RGuxS",
        "outputId": "17a729d9-9dd7-487e-bb0d-510de3785ef9"
      },
      "source": [
        "import math\n",
        "\n",
        "x = 2\n",
        "e_to_2 = 0\n",
        "for i in range(5):\n",
        "    e_to_2 += x**i/math.factorial(i)\n",
        "    \n",
        "print(e_to_2)"
      ],
      "execution_count": 3,
      "outputs": [
        {
          "output_type": "stream",
          "name": "stdout",
          "text": [
            "7.0\n"
          ]
        }
      ]
    },
    {
      "cell_type": "markdown",
      "metadata": {
        "id": "E37XlHDCGxuK"
      },
      "source": [
        "The result `7.0` is the same as the result we calculated when we wrote out each term of the Taylor Series individually.\n",
        "\n",
        "An advantage of using a for *loop* is that we can easily increase the number of terms. If we increase the number of times the for loop runs, we increase the number of terms in the Taylor Series expansion. Let's try `10` terms. Note how the line `for i in range(10)`: now includes 10 passed to the `range()` function.\n"
      ]
    },
    {
      "cell_type": "code",
      "metadata": {
        "colab": {
          "base_uri": "https://localhost:8080/"
        },
        "id": "iQPFIXWeG5QT",
        "outputId": "7c1deeda-846a-40f4-ab65-ca4ddb80b652"
      },
      "source": [
        "import math\n",
        "\n",
        "x = 2\n",
        "e_to_2 = 0\n",
        "for i in range(10):\n",
        "    e_to_2 += x**i/math.factorial(i)\n",
        "    \n",
        "print(e_to_2)"
      ],
      "execution_count": 4,
      "outputs": [
        {
          "output_type": "stream",
          "name": "stdout",
          "text": [
            "7.3887125220458545\n"
          ]
        }
      ]
    },
    {
      "cell_type": "markdown",
      "metadata": {
        "id": "MLgS0ildG-WS"
      },
      "source": [
        "The result is `7.38871`.... Let's see how close that is to $e^2$ calculated with Python's `exp()` function."
      ]
    },
    {
      "cell_type": "code",
      "metadata": {
        "colab": {
          "base_uri": "https://localhost:8080/"
        },
        "id": "MQBv3S3BHA-z",
        "outputId": "90635469-65e9-48df-a45d-ade468c5f63e"
      },
      "source": [
        "print(math.exp(2))"
      ],
      "execution_count": 5,
      "outputs": [
        {
          "output_type": "stream",
          "name": "stdout",
          "text": [
            "7.38905609893065\n"
          ]
        }
      ]
    },
    {
      "cell_type": "markdown",
      "metadata": {
        "id": "LXbb8fhnHF_K"
      },
      "source": [
        "The result is `7.38905....` We get closer to the value of $e^2$ when `10` terms are used in the Taylor Series compared to when `5` terms were used in the Taylor Series."
      ]
    },
    {
      "cell_type": "markdown",
      "metadata": {
        "id": "TfTkm_2EHImf"
      },
      "source": [
        "## Refactor the for loop into a function"
      ]
    },
    {
      "cell_type": "markdown",
      "metadata": {
        "id": "JEqVuFiGHLpR"
      },
      "source": [
        "Next, let's refactor the code above that contained a for loop (which calculated $e^2$) into a function that can compute $e$ raised to any power estimated with any number of terms in the Taylor Series. The general syntax to define a function in Python is below.\n",
        "\n",
        "```txt\n",
        "def <func name>(<arg 1>, <arg 2>, ...):\n",
        "    <code>\n",
        "    return <output>\n",
        "```\n",
        "\n",
        "Where `def` is the Python keyword that defines a function, `<func name>` is a valid Python variable name, and `<arg 1>, <arg 2>` are the input arguments passed to the function. `<code>` that runs when the function is called must be indented (the standard indentation is 4 spaces). The keyword `return` denotes the `<output>` of the function.\n",
        "\n",
        "Let's code our for loop that approximates $e^2$ into a function."
      ]
    },
    {
      "cell_type": "code",
      "metadata": {
        "id": "4dmvcvH0HQIS"
      },
      "source": [
        "import math\n",
        "\n",
        "def func_e_to_2(n):\n",
        "    x = 2\n",
        "    e_to_2 = 0\n",
        "    for i in range(n):\n",
        "        e_to_2 += x**i/math.factorial(i)\n",
        "    \n",
        "    return e_to_2"
      ],
      "execution_count": 6,
      "outputs": []
    },
    {
      "cell_type": "markdown",
      "metadata": {
        "id": "TTMxk0j2HUBb"
      },
      "source": [
        "If we call our function `func_e_to_2()` with the input argument `10`, the result is the same as when we ran the for *loop* 10 times."
      ]
    },
    {
      "cell_type": "code",
      "metadata": {
        "colab": {
          "base_uri": "https://localhost:8080/"
        },
        "id": "KMTCDfyrHZzy",
        "outputId": "a5fa9a29-e0c7-405b-8be4-0238bea6eacf"
      },
      "source": [
        "out = func_e_to_2(10)\n",
        "print(out)"
      ],
      "execution_count": 7,
      "outputs": [
        {
          "output_type": "stream",
          "name": "stdout",
          "text": [
            "7.3887125220458545\n"
          ]
        }
      ]
    },
    {
      "cell_type": "markdown",
      "metadata": {
        "id": "sDNzfGKRHbGR"
      },
      "source": [
        "The output of our `func_e_to_2()` function is `7.38871....`\n",
        "\n",
        "We can make our function more general by setting `x` (the number that $e$ gets raised to) as an input argument. Note how now there are two input arguments in the function definition `(x, n)`. `x` is the number $e$ is raised to, and `n` is the number of terms in the Taylor Series (which is the number of times the for loop runs on the inside of the function definition)."
      ]
    },
    {
      "cell_type": "code",
      "metadata": {
        "id": "rL3Pbs0WHhBz"
      },
      "source": [
        "import math\n",
        "\n",
        "def func_e(x, n):\n",
        "    e_approx = 0\n",
        "    for i in range(n):\n",
        "        e_approx += x**i/math.factorial(i)\n",
        "    \n",
        "    return e_approx"
      ],
      "execution_count": 8,
      "outputs": []
    },
    {
      "cell_type": "markdown",
      "metadata": {
        "id": "PpItcLzUHn9B"
      },
      "source": [
        "Let's calculate $e^2$ using 10 terms with our new `func_e()` function."
      ]
    },
    {
      "cell_type": "code",
      "metadata": {
        "colab": {
          "base_uri": "https://localhost:8080/"
        },
        "id": "zHPf9YFZHtwk",
        "outputId": "49340dd6-bdf3-486f-fff0-de30f8bfede5"
      },
      "source": [
        "out = func_e(2,10)\n",
        "print(out)"
      ],
      "execution_count": 9,
      "outputs": [
        {
          "output_type": "stream",
          "name": "stdout",
          "text": [
            "7.3887125220458545\n"
          ]
        }
      ]
    },
    {
      "cell_type": "markdown",
      "metadata": {
        "id": "GXdpqC8qHzO-"
      },
      "source": [
        "The result is `7.38871...`, the same result as before.\n",
        "\n",
        "An advantage to writing our Taylor Series expansion in a function is that now the Taylor Series approximation calculation is reusable and can be called in one line of code. For instance, we can estimate the value of $e^5$ with `10` terms, by calling our `func_e()` function with the input arguments ``(5,10)``."
      ]
    },
    {
      "cell_type": "code",
      "metadata": {
        "colab": {
          "base_uri": "https://localhost:8080/"
        },
        "id": "SDw719vGH0zR",
        "outputId": "c8552f3f-5c91-4cb8-ca2f-5c79246b404b"
      },
      "source": [
        "out = func_e(5,10)\n",
        "print(out)"
      ],
      "execution_count": 10,
      "outputs": [
        {
          "output_type": "stream",
          "name": "stdout",
          "text": [
            "143.68945656966488\n"
          ]
        }
      ]
    },
    {
      "cell_type": "markdown",
      "metadata": {
        "id": "RGC4QANmH3cB"
      },
      "source": [
        "The result is `143.68945....` Let's see how close this value is to Python's `exp()` function when we make the same calculation $e^5$."
      ]
    },
    {
      "cell_type": "code",
      "metadata": {
        "colab": {
          "base_uri": "https://localhost:8080/"
        },
        "id": "VaHrUayWH6RJ",
        "outputId": "40d8c096-ac85-4b65-ca8c-81e716d981fb"
      },
      "source": [
        "out = math.exp(5)\n",
        "print(out)"
      ],
      "execution_count": 11,
      "outputs": [
        {
          "output_type": "stream",
          "name": "stdout",
          "text": [
            "148.4131591025766\n"
          ]
        }
      ]
    },
    {
      "cell_type": "markdown",
      "metadata": {
        "id": "8LUG795YH8lJ"
      },
      "source": [
        "The result is `148.41315....` The Taylor Series approximation calculated by our func_e() function is pretty close to the value calculated by Python's `exp()` function."
      ]
    },
    {
      "cell_type": "markdown",
      "metadata": {
        "id": "fELAq1mJH_h6"
      },
      "source": [
        "## Use a for loop to calculate the difference between the Taylor Series expansion and Python's `exp()` function"
      ]
    },
    {
      "cell_type": "markdown",
      "metadata": {
        "id": "hI_bSL2_IB3B"
      },
      "source": [
        "Now let's use a for loop to calculate the difference between the Taylor Series expansion as calculated by our `func_e()` function compared to Python's `exp()` function. We'll calculate the difference between the two functions when we use between `1` and `10` terms in the Taylor Series expansion.\n",
        "\n",
        "The code below uses f-strings, which is a Python syntax for inserting the value of a variable in a string. The general syntax for an f-string in Python is below.\n",
        "\n",
        "```txt\n",
        "f'string statment {<var>}'\n",
        "```\n",
        "\n",
        "Where `f` denotes the beginning of an f-string, the f-string is surrounded by quotes `' '`, and the variable `<var>` is enclosed in curly braces `{ }`. The value of `<var>` will be printed out without the curly braces."
      ]
    },
    {
      "cell_type": "code",
      "metadata": {
        "colab": {
          "base_uri": "https://localhost:8080/"
        },
        "id": "xOqaCPUYIEPx",
        "outputId": "18b8f53e-d227-4ad4-c9cc-f7e7d100120d"
      },
      "source": [
        "import math\n",
        "\n",
        "x = 5\n",
        "for i in range(1,11):\n",
        "    e_approx = func_e(x,i)\n",
        "    e_exp = math.exp(x)\n",
        "    e_error = abs(e_approx - e_exp)\n",
        "    print(f'{i} terms: Taylor Series approx= {e_approx}, exp calc= {e_exp}, error = {e_error}')"
      ],
      "execution_count": 12,
      "outputs": [
        {
          "output_type": "stream",
          "name": "stdout",
          "text": [
            "1 terms: Taylor Series approx= 1.0, exp calc= 148.4131591025766, error = 147.4131591025766\n",
            "2 terms: Taylor Series approx= 6.0, exp calc= 148.4131591025766, error = 142.4131591025766\n",
            "3 terms: Taylor Series approx= 18.5, exp calc= 148.4131591025766, error = 129.9131591025766\n",
            "4 terms: Taylor Series approx= 39.33333333333333, exp calc= 148.4131591025766, error = 109.07982576924327\n",
            "5 terms: Taylor Series approx= 65.375, exp calc= 148.4131591025766, error = 83.0381591025766\n",
            "6 terms: Taylor Series approx= 91.41666666666667, exp calc= 148.4131591025766, error = 56.99649243590993\n",
            "7 terms: Taylor Series approx= 113.11805555555556, exp calc= 148.4131591025766, error = 35.29510354702104\n",
            "8 terms: Taylor Series approx= 128.61904761904762, exp calc= 148.4131591025766, error = 19.79411148352898\n",
            "9 terms: Taylor Series approx= 138.30716765873015, exp calc= 148.4131591025766, error = 10.105991443846449\n",
            "10 terms: Taylor Series approx= 143.68945656966488, exp calc= 148.4131591025766, error = 4.723702532911716\n"
          ]
        }
      ]
    },
    {
      "cell_type": "markdown",
      "metadata": {
        "id": "B2mBe_XbIG5h"
      },
      "source": [
        "Note how the error decreases as we add terms to the Taylor Series. When the Taylor Series only has 1 term, the error is `147.41....` When `10` terms are used in the Taylor Series, the error goes down to `4.7237....`"
      ]
    },
    {
      "cell_type": "markdown",
      "metadata": {
        "id": "eLseCXxwIJbJ"
      },
      "source": [
        "## Use a `break` statement to exit a for loop early."
      ]
    },
    {
      "cell_type": "markdown",
      "metadata": {
        "id": "cdq7wykVIP7B"
      },
      "source": [
        "How many terms would it take to produce an error of less than `1`? We can use a `break` statement to drop out of the for loop when the error is less than `1`. The code below calculates how many terms are needed in the Taylor Series, when $e^5$ is calculated, to keep the error less than `1`."
      ]
    },
    {
      "cell_type": "code",
      "metadata": {
        "id": "U5jHhDf_ISaR"
      },
      "source": [
        "import math\n",
        "\n",
        "x = 5\n",
        "for i in range(1,20):\n",
        "    e_approx = func_e(x,i)\n",
        "    e_exp = math.exp(x)\n",
        "    e_error = abs(e_approx - e_exp)\n",
        "    if e_error < 1:\n",
        "        break\n",
        "        \n",
        "print(f'{i} terms: Taylor Series approx= {e_approx}, exp calc= {e_exp}, error = {e_error}')"
      ],
      "execution_count": null,
      "outputs": []
    },
    {
      "cell_type": "markdown",
      "metadata": {
        "id": "OrrjlCO-IWXh"
      },
      "source": [
        "The output shows that it takes `12` terms in the Taylor Series to drop the error below `1`."
      ]
    },
    {
      "cell_type": "markdown",
      "metadata": {
        "id": "aEWcFt0wIYZZ"
      },
      "source": [
        "## Create a function to estimate the value of cos(x) using a Taylor Series"
      ]
    },
    {
      "cell_type": "markdown",
      "metadata": {
        "id": "bZI7XHGiIbVH"
      },
      "source": [
        "Next, let's calculate the value of the cosine function using a Taylor Series. The Taylor Series expansion for $cos(x)$ is below.\n",
        "\n",
        "$$cos\\left(x\\right)\\approx \\:\\sum \\:_{n=0}^{\\infty \\:}\\left(\\left(-1\\right)^n\\cdot \\frac{x^{2\\cdot n}}{\\left(2\\cdot n\\right)!}\\right)\\approx 1-\\frac{x^2}{2!}+\\frac{x^4}{6!}-\\frac{x^6}{6!}\\cdot \\:\\cdot \\:\\cdot \\:\\cdot \\:$$\n",
        "\n",
        "We can code this formula into a function that contains a for loop. Note the variable `x` is the value we are trying to find the cosine of, the variable `n` is the number of terms in the Taylor Series, and the variable `i` is the loop index which is also the Taylor Series term number. We are using a separate variable for the coefficient `coef` which is equal to $(−1)^i$, the numerator `num` which is equal to $x^{2i}$ and the denominator `denom` which is equal to $(2i!)$. Breaking the Taylor Series formula into three parts can cut down on coding errors."
      ]
    },
    {
      "cell_type": "code",
      "metadata": {
        "id": "1H82e7crId2g"
      },
      "source": [
        "import math\n",
        "\n",
        "def func_cos(x, n):\n",
        "    cos_approx = 0\n",
        "    for i in range(n):\n",
        "        coef = (-1)**i\n",
        "        num = x**(2*i)\n",
        "        denom = math.factorial(2*i)\n",
        "        cos_approx += ( coef ) * ( (num)/(denom) )\n",
        "    \n",
        "    return cos_approx"
      ],
      "execution_count": 15,
      "outputs": []
    },
    {
      "cell_type": "markdown",
      "metadata": {
        "id": "2kzcwhp1IgAh"
      },
      "source": [
        "Let's use our `func_cos()` function to estimate the cosine of 45 degrees. Note that `func_cos()` function computes the cosine of an angle in radians. If we want to calculate the cosine of 45 degrees using our function, we first have to convert 45 degrees into radians. Luckily, Python's `math` module has a function called `radians()` that makes the angle conversion early."
      ]
    },
    {
      "cell_type": "code",
      "metadata": {
        "colab": {
          "base_uri": "https://localhost:8080/"
        },
        "id": "A_pPLpJcIjlQ",
        "outputId": "6599a1d8-8d7d-4327-c3c4-88fbf0ce1b7c"
      },
      "source": [
        "angle_rad = (math.radians(45))\n",
        "out = func_cos(angle_rad,5)\n",
        "print(out)"
      ],
      "execution_count": 16,
      "outputs": [
        {
          "output_type": "stream",
          "name": "stdout",
          "text": [
            "0.7071068056832942\n"
          ]
        }
      ]
    },
    {
      "cell_type": "markdown",
      "metadata": {
        "id": "v4HcbPzHIlYS"
      },
      "source": [
        "Using our `func_cos()` function and `5` terms in the Taylor Series approximation, we estimate the cosine of 45 degrees is `0.707106805....` Let's check our `func_cos()` function compared to Python's `cos()` function from the `math` module."
      ]
    },
    {
      "cell_type": "code",
      "metadata": {
        "colab": {
          "base_uri": "https://localhost:8080/"
        },
        "id": "I-Wy87wOIn-J",
        "outputId": "6b4b5765-54ae-4a86-d935-124393ea0690"
      },
      "source": [
        "out = math.cos(angle_rad)\n",
        "print(out)"
      ],
      "execution_count": 17,
      "outputs": [
        {
          "output_type": "stream",
          "name": "stdout",
          "text": [
            "0.7071067811865476\n"
          ]
        }
      ]
    },
    {
      "cell_type": "markdown",
      "metadata": {
        "id": "Gt1m_W5tI0Wg"
      },
      "source": [
        "Using Python's `cos()` function, the cosine of 45 degrees returns `0.707106781...` This value is very close to the approximation calculated using our `func_cos()` function."
      ]
    },
    {
      "cell_type": "markdown",
      "metadata": {
        "id": "Ugvbkg8kI2e5"
      },
      "source": [
        "## Build a plot to compare the Taylor Series approximation to Python's `cos()` function"
      ]
    },
    {
      "cell_type": "markdown",
      "metadata": {
        "id": "db6J14CkI52w"
      },
      "source": [
        "In the last part of this post, we are going to build a plot that shows how the Taylor Series approximation calculated by our `func_cos()` function compares to Python's ``cos()`` function.\n",
        "\n",
        "The idea is to make a plot that has one line for Python's ``cos()`` function and lines for the Taylor Series approximation based on different numbers of terms.\n",
        "\n",
        "For instance, if we use 3 terms in the Taylor Series approximation, our plot has two lines. One line for Python's ``cos()`` function and one line for our ``func_cos()`` function with three terms in the Taylor series approximation. We'll calculate the cosine using both functions for angles between $−2π$ radians and $2π$ radians."
      ]
    },
    {
      "cell_type": "code",
      "metadata": {
        "colab": {
          "base_uri": "https://localhost:8080/",
          "height": 265
        },
        "id": "bxGAkZ9AI86Z",
        "outputId": "5243fdaf-9d0a-4ad7-ab75-6b4e4c6e60e5"
      },
      "source": [
        "import math\n",
        "import numpy as np\n",
        "import matplotlib.pyplot as plt\n",
        "# if using a Jupyter notebook, include:\n",
        "%matplotlib inline\n",
        "\n",
        "angles = np.arange(-2*np.pi,2*np.pi,0.1)\n",
        "p_cos = np.cos(angles)\n",
        "t_cos = [func_cos(angle,3) for angle in angles]\n",
        "\n",
        "fig, ax = plt.subplots()\n",
        "ax.plot(angles,p_cos)\n",
        "ax.plot(angles,t_cos)\n",
        "ax.set_ylim([-5,5])\n",
        "ax.legend(['cos() function','Taylor Series - 3 terms'])\n",
        "\n",
        "plt.show()"
      ],
      "execution_count": 18,
      "outputs": [
        {
          "output_type": "display_data",
          "data": {
            "image/png": "[encoded data removed]",
            "text/plain": [
              "<Figure size 432x288 with 1 Axes>"
            ]
          },
          "metadata": {
            "needs_background": "light"
          }
        }
      ]
    },
    {
      "cell_type": "markdown",
      "metadata": {
        "id": "Uvcuo-ikJABJ"
      },
      "source": [
        "We can use a for loop to see how much better adding additional terms to our Taylor Series approximation compares to Python's ``cos()`` function."
      ]
    },
    {
      "cell_type": "code",
      "metadata": {
        "colab": {
          "base_uri": "https://localhost:8080/",
          "height": 269
        },
        "id": "aFSf_8JDJCso",
        "outputId": "e68070ea-ede5-4e39-85d6-41bf9f57f23f"
      },
      "source": [
        "import math\n",
        "import numpy as np\n",
        "import matplotlib.pyplot as plt\n",
        "# if using a Jupyter notebook, include:\n",
        "%matplotlib inline\n",
        "\n",
        "angles = np.arange(-2*np.pi,2*np.pi,0.1)\n",
        "p_cos = np.cos(angles)\n",
        "\n",
        "fig, ax = plt.subplots()\n",
        "ax.plot(angles,p_cos)\n",
        "\n",
        "# add lines for between 1 and 6 terms in the Taylor Series\n",
        "for i in range(1,6):\n",
        "    t_cos = [func_cos(angle,i) for angle in angles]\n",
        "    ax.plot(angles,t_cos)\n",
        "\n",
        "ax.set_ylim([-7,4])\n",
        "\n",
        "# set up legend\n",
        "legend_lst = ['cos() function']\n",
        "for i in range(1,6):\n",
        "    legend_lst.append(f'Taylor Series - {i} terms')\n",
        "ax.legend(legend_lst, loc=3)\n",
        "\n",
        "plt.show()"
      ],
      "execution_count": 19,
      "outputs": [
        {
          "output_type": "display_data",
          "data": {
            "image/png": "[encoded data removed]",
            "text/plain": [
              "<Figure size 432x288 with 1 Axes>"
            ]
          },
          "metadata": {
            "needs_background": "light"
          }
        }
      ]
    },
    {
      "cell_type": "markdown",
      "metadata": {
        "id": "KhgNN1-jJG25"
      },
      "source": [
        "## Summary"
      ]
    },
    {
      "cell_type": "markdown",
      "metadata": {
        "id": "Cl2oN117JK5I"
      },
      "source": [
        "In this post, we reviewed how to construct the Taylor Series of $e^x$ and $cos(x)$ in Python. First, we coded each term of the Taylor series individually. Next, we used a for *loop* to calculate $n$ terms in the Taylor Series expansion. We then refactored the code with the for *loop* into a function and parameterized our function so that we could calculate $e$ raised to any number calculated out to any number of terms. At the end of the post, we coded the Taylor Series of $cos(x)$ into a Python function. Finally, we used our Taylor Series cosine function to build a plot with **Matplotlib** that shows how the Taylor Series approximation compares to Python's `cos()` function for angles between $−2π$ and $2π$ radians.\n",
        "\n",
        "*Code will be used, based on https://pythonforundergradengineers.com/creating-taylor-series-functions-with-python.html for ln(x+1) and sin(x) functions*\n",
        "\n",
        "![image.png](data:image/png;base64,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)"
      ]
    },
    {
      "cell_type": "code",
      "metadata": {
        "colab": {
          "base_uri": "https://localhost:8080/"
        },
        "id": "VqGxQdpfJeP6",
        "outputId": "f5256a5c-9254-4be1-de1b-e6245f7d6bc3"
      },
      "source": [
        "## Funcion usando un loop\n",
        "def fun_lnxmasuno(x,n):\n",
        "  res = 0 \n",
        "  for i in range(1,n):\n",
        "    res += -( ((-1)**i)*(x**i)/i )\n",
        "  return res\n",
        "print(fun_lnxmasuno(1,1000))"
      ],
      "execution_count": 20,
      "outputs": [
        {
          "output_type": "stream",
          "name": "stdout",
          "text": [
            "0.6936474305598223\n"
          ]
        }
      ]
    },
    {
      "cell_type": "code",
      "metadata": {
        "colab": {
          "base_uri": "https://localhost:8080/"
        },
        "id": "ZGm50eLrJjHJ",
        "outputId": "40bce603-2437-4ccc-dea2-4e95e79a6d4d"
      },
      "source": [
        "## Comparación entre la función hecha con serie de Taylor y la función implementada en math \n",
        "import math\n",
        "math.log(2)"
      ],
      "execution_count": 21,
      "outputs": [
        {
          "output_type": "execute_result",
          "data": {
            "text/plain": [
              "0.6931471805599453"
            ]
          },
          "metadata": {},
          "execution_count": 21
        }
      ]
    },
    {
      "cell_type": "code",
      "metadata": {
        "colab": {
          "base_uri": "https://localhost:8080/",
          "height": 332
        },
        "id": "sAJawrMiJmcN",
        "outputId": "6ad9ac7d-a97e-4791-9258-cb6ef0525a17"
      },
      "source": [
        "##graficando la comparacion \n",
        "import math\n",
        "import numpy as np\n",
        "import matplotlib.pyplot as plt\n",
        "%matplotlib inline\n",
        "\n",
        "x = np.linspace(-3,3)\n",
        "for v in range(1,7):\n",
        "  arr = []\n",
        "  for c in x:\n",
        "    arr.append(fun_lnxmasuno(c,v))\n",
        "  labelm = f'Taylor Series - {str(v)} terminos'\n",
        "  plt.plot(x,arr, label = labelm )\n",
        "    \n",
        "plt.title('Serie Taylor de la Función ln(x+1)',fontsize= 30) \n",
        "plt.plot(x, np.log(x+1), label= \"Función ln(x+1)\", linewidth = 2, linestyle = \"--\", color = \"indigo\")\n",
        "plt.legend() \n",
        "plt.xlim(-2, 2)\n",
        "plt.ylim(-4,2)                          \n",
        "plt.show()"
      ],
      "execution_count": 22,
      "outputs": [
        {
          "output_type": "stream",
          "name": "stderr",
          "text": [
            "/usr/local/lib/python3.7/dist-packages/ipykernel_launcher.py:16: RuntimeWarning: invalid value encountered in log\n",
            "  app.launch_new_instance()\n"
          ]
        },
        {
          "output_type": "display_data",
          "data": {
            "image/png": "[encoded data removed]",
            "text/plain": [
              "<Figure size 432x288 with 1 Axes>"
            ]
          },
          "metadata": {
            "needs_background": "light"
          }
        }
      ]
    },
    {
      "cell_type": "markdown",
      "metadata": {
        "id": "yfpcP8MeJsmZ"
      },
      "source": [
        "![image.png](data:image/png;base64,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)"
      ]
    },
    {
      "cell_type": "code",
      "metadata": {
        "colab": {
          "base_uri": "https://localhost:8080/"
        },
        "id": "BLreARoIJuPw",
        "outputId": "04ac7190-d989-46e2-d135-5d4b39e76b4a"
      },
      "source": [
        "## Funcion usando un loop\n",
        "def fun_sin(x,n):\n",
        "  x = x+ 0.0\n",
        "  res = x\n",
        "  for i in range(1,n):\n",
        "    res += ((-1**i)*(x**(2*i+1)))/(math.factorial(2*i+1))\n",
        "  return res\n",
        "print(fun_sin(1.0,50))"
      ],
      "execution_count": 23,
      "outputs": [
        {
          "output_type": "stream",
          "name": "stdout",
          "text": [
            "0.8247988063561986\n"
          ]
        }
      ]
    },
    {
      "cell_type": "code",
      "metadata": {
        "colab": {
          "base_uri": "https://localhost:8080/",
          "height": 265
        },
        "id": "Rxck2qzRJxZI",
        "outputId": "ea54b617-29f2-4a1c-fd35-6fa59ba163d9"
      },
      "source": [
        "import math\n",
        "import numpy as np\n",
        "import matplotlib.pyplot as plt\n",
        "# if using a Jupyter notebook, include:\n",
        "%matplotlib inline\n",
        "\n",
        "angles = np.arange(-2*np.pi,2*np.pi,0.1)\n",
        "p_cos = np.sin(angles)\n",
        "t_cos = [fun_sin(angle,3) for angle in angles]\n",
        "\n",
        "fig, ax = plt.subplots()\n",
        "ax.plot(angles,p_cos)\n",
        "ax.plot(angles,t_cos)\n",
        "ax.set_ylim([-5,5])\n",
        "ax.legend(['Función seno()','Serie de Taylor - 3 terminos'])\n",
        "\n",
        "plt.show()"
      ],
      "execution_count": 24,
      "outputs": [
        {
          "output_type": "display_data",
          "data": {
            "image/png": "[encoded data removed]",
            "text/plain": [
              "<Figure size 432x288 with 1 Axes>"
            ]
          },
          "metadata": {
            "needs_background": "light"
          }
        }
      ]
    },
    {
      "cell_type": "markdown",
      "metadata": {
        "id": "FJqBeqQOKCWn"
      },
      "source": [
        "# ***2. Taylor Series Expansion with Python from Data Science Fabric***\n",
        "\n",
        "https://dsfabric.org/taylor-series-expansion-with-python"
      ]
    },
    {
      "cell_type": "code",
      "metadata": {
        "colab": {
          "base_uri": "https://localhost:8080/"
        },
        "id": "gvHxtPsxKRfg",
        "outputId": "0574f7dc-d6db-45d2-c182-b19577393b93"
      },
      "source": [
        "from sympy import series, Symbol\n",
        "from sympy.functions import sin, cos, exp, log\n",
        "from sympy.plotting import plot\n",
        "import matplotlib.pyplot as plt\n",
        "import math\n",
        "\n",
        "# Define symbol\n",
        "x = Symbol('x')\n",
        "\n",
        "# Function for Taylor Series Expansion\n",
        "\n",
        "def taylor(function, x0, n):\n",
        "    \"\"\"\n",
        "    Parameter \"function\" is our function which we want to approximate\n",
        "    \"x0\" is the point where to approximate\n",
        "    \"n\" is the order of approximation\n",
        "    \"\"\"\n",
        "    return function.series(x,x0,n).removeO()\n",
        "\n",
        "print('sin(x) ≅', taylor(sin(x), 0, 4))\n",
        "\n",
        "print('ln(x+1) ≅', taylor(log((x+1), math.e), 0, 4))"
      ],
      "execution_count": 25,
      "outputs": [
        {
          "output_type": "stream",
          "name": "stdout",
          "text": [
            "sin(x) ≅ -x**3/6 + x\n",
            "ln(x+1) ≅ 0.333333333333333*x**3 - 0.5*x**2 + 1.0*x\n"
          ]
        }
      ]
    },
    {
      "cell_type": "code",
      "metadata": {
        "colab": {
          "base_uri": "https://localhost:8080/"
        },
        "id": "Pf7N2-sCKb1v",
        "outputId": "adad0cd5-6ce0-42ae-d648-6854f3bcdd76"
      },
      "source": [
        "print('sin(1) =', taylor(sin(x), 0, 4).subs(x,1))\n",
        "print('ln(2) =', taylor(log(x+1), 0, 4).subs(x,1))"
      ],
      "execution_count": 26,
      "outputs": [
        {
          "output_type": "stream",
          "name": "stdout",
          "text": [
            "sin(1) = 5/6\n",
            "ln(2) = 5/6\n"
          ]
        }
      ]
    },
    {
      "cell_type": "code",
      "metadata": {
        "colab": {
          "base_uri": "https://localhost:8080/"
        },
        "id": "prCcqlaAKekI",
        "outputId": "f4cb7e73-9269-4323-a9d6-38078341888a"
      },
      "source": [
        "print('Taylor 0 sin(x) ≅', taylor(sin(x), 0, 0))\n",
        "print('Taylor 1 sin(x) ≅', taylor(sin(x), 0, 1))\n",
        "print('Taylor 2 sin(x) ≅', taylor(sin(x), 0, 2))\n",
        "print('Taylor 3 sin(x) ≅', taylor(sin(x), 0, 3))\n",
        "print('Taylor 4 sin(x) ≅', taylor(sin(x), 0, 4))\n",
        "print('Taylor 5 sin(x) ≅', taylor(sin(x), 0, 5))\n",
        "print('Taylor 6 sin(x) ≅', taylor(sin(x), 0, 6))\n",
        "print('Taylor 7 sin(x) ≅', taylor(sin(x), 0, 7))\n",
        "print('Taylor 8 sin(x) ≅', taylor(sin(x), 0, 8))"
      ],
      "execution_count": 27,
      "outputs": [
        {
          "output_type": "stream",
          "name": "stdout",
          "text": [
            "Taylor 0 sin(x) ≅ 0\n",
            "Taylor 1 sin(x) ≅ 0\n",
            "Taylor 2 sin(x) ≅ x\n",
            "Taylor 3 sin(x) ≅ x\n",
            "Taylor 4 sin(x) ≅ -x**3/6 + x\n",
            "Taylor 5 sin(x) ≅ -x**3/6 + x\n",
            "Taylor 6 sin(x) ≅ x**5/120 - x**3/6 + x\n",
            "Taylor 7 sin(x) ≅ x**5/120 - x**3/6 + x\n",
            "Taylor 8 sin(x) ≅ -x**7/5040 + x**5/120 - x**3/6 + x\n"
          ]
        }
      ]
    },
    {
      "cell_type": "code",
      "metadata": {
        "colab": {
          "base_uri": "https://localhost:8080/"
        },
        "id": "ST9HP2JeKgVn",
        "outputId": "91d426cd-b43b-476a-825b-526f8d1b71c2"
      },
      "source": [
        "print('Taylor 0 log((x+1) ≅', taylor(log(x+1), 0, 0))\n",
        "print('Taylor 1 log((x+1) ≅', taylor(log(x+1), 0, 1))\n",
        "print('Taylor 2 log((x+1) ≅', taylor(log(x+1), 0, 2))\n",
        "print('Taylor 3 log((x+1) ≅', taylor(log(x+1), 0, 3))\n",
        "print('Taylor 4 log((x+1) ≅', taylor(log(x+1), 0, 4))\n",
        "print('Taylor 5 log((x+1) ≅', taylor(log(x+1), 0, 5))\n",
        "print('Taylor 6 log((x+1) ≅', taylor(log(x+1), 0, 6))\n",
        "print('Taylor 7 log((x+1) ≅', taylor(log(x+1), 0, 7))\n",
        "print('Taylor 8 log((x+1) ≅', taylor(log(x+1), 0, 8))"
      ],
      "execution_count": 28,
      "outputs": [
        {
          "output_type": "stream",
          "name": "stdout",
          "text": [
            "Taylor 0 log((x+1) ≅ 0\n",
            "Taylor 1 log((x+1) ≅ 0\n",
            "Taylor 2 log((x+1) ≅ x\n",
            "Taylor 3 log((x+1) ≅ -x**2/2 + x\n",
            "Taylor 4 log((x+1) ≅ x**3/3 - x**2/2 + x\n",
            "Taylor 5 log((x+1) ≅ -x**4/4 + x**3/3 - x**2/2 + x\n",
            "Taylor 6 log((x+1) ≅ x**5/5 - x**4/4 + x**3/3 - x**2/2 + x\n",
            "Taylor 7 log((x+1) ≅ -x**6/6 + x**5/5 - x**4/4 + x**3/3 - x**2/2 + x\n",
            "Taylor 8 log((x+1) ≅ x**7/7 - x**6/6 + x**5/5 - x**4/4 + x**3/3 - x**2/2 + x\n"
          ]
        }
      ]
    },
    {
      "cell_type": "code",
      "metadata": {
        "colab": {
          "base_uri": "https://localhost:8080/"
        },
        "id": "2W1tEUMQKiPo",
        "outputId": "854f7126-e51c-464d-abca-3179a4c47788"
      },
      "source": [
        "print('Taylor 0 sin(x) ≅', taylor(sin(x), 0, 0).subs(x,2),' = ',taylor(sin(x), 0, 0).subs(x,2).evalf())\n",
        "print('Taylor 1 sin(x) ≅', taylor(sin(x), 0, 1).subs(x,2),' = ',taylor(sin(x), 0, 1).subs(x,2).evalf())\n",
        "print('Taylor 2 sin(x) ≅', taylor(sin(x), 0, 2).subs(x,2),' = ',taylor(sin(x), 0, 2).subs(x,2).evalf())\n",
        "print('Taylor 3 sin(x) ≅', taylor(sin(x), 0, 3).subs(x,2),' = ',taylor(sin(x), 0, 3).subs(x,2).evalf())\n",
        "print('Taylor 4 sin(x) ≅', taylor(sin(x), 0, 4).subs(x,2),' = ',taylor(sin(x), 0, 4).subs(x,2).evalf())\n",
        "print('Taylor 5 sin(x) ≅', taylor(sin(x), 0, 5).subs(x,2),' = ',taylor(sin(x), 0, 5).subs(x,2).evalf())\n",
        "print('Taylor 6 sin(x) ≅', taylor(sin(x), 0, 6).subs(x,2),' = ',taylor(sin(x), 0, 6).subs(x,2).evalf())\n",
        "print('Taylor 7 sin(x) ≅', taylor(sin(x), 0, 8).subs(x,2),' = ',taylor(sin(x), 0, 7).subs(x,2).evalf())"
      ],
      "execution_count": 29,
      "outputs": [
        {
          "output_type": "stream",
          "name": "stdout",
          "text": [
            "Taylor 0 sin(x) ≅ 0  =  0\n",
            "Taylor 1 sin(x) ≅ 0  =  0\n",
            "Taylor 2 sin(x) ≅ 2  =  2.00000000000000\n",
            "Taylor 3 sin(x) ≅ 2  =  2.00000000000000\n",
            "Taylor 4 sin(x) ≅ 2/3  =  0.666666666666667\n",
            "Taylor 5 sin(x) ≅ 2/3  =  0.666666666666667\n",
            "Taylor 6 sin(x) ≅ 14/15  =  0.933333333333333\n",
            "Taylor 7 sin(x) ≅ 286/315  =  0.933333333333333\n"
          ]
        }
      ]
    },
    {
      "cell_type": "code",
      "metadata": {
        "colab": {
          "base_uri": "https://localhost:8080/"
        },
        "id": "1vTCthaUKkIH",
        "outputId": "0c7a465b-7f72-4e25-f826-eb06419ccfd8"
      },
      "source": [
        "print('Taylor 0 log(x+1) ≅', taylor(log(x+1), 0, 0).subs(x+1,2),' = ',taylor(log(x+1), 0, 0).subs(x+1,2).evalf())\n",
        "print('Taylor 1 log(x+1) ≅', taylor(log(x+1), 0, 1).subs(x+1,2),' = ',taylor(log(x+1), 0, 1).subs(x+1,2).evalf())\n",
        "print('Taylor 2 log(x+1) ≅', taylor(log(x+1), 0, 2).subs(x+1,2),' = ',taylor(log(x+1), 0, 2).subs(x+1,2).evalf())\n",
        "print('Taylor 3 log(x+1) ≅', taylor(log(x+1), 0, 3).subs(x+1,2),' = ',taylor(log(x+1), 0, 3).subs(x+1,2).evalf())\n",
        "print('Taylor 4 log(x+1) ≅', taylor(log(x+1), 0, 4).subs(x+1,2),' = ',taylor(log(x+1), 0, 4).subs(x+1,2).evalf())\n",
        "print('Taylor 5 log(x+1) ≅', taylor(log(x+1), 0, 5).subs(x+1,2),' = ',taylor(log(x+1), 0, 5).subs(x+1,2).evalf())\n",
        "print('Taylor 6 log(x+1) ≅', taylor(log(x+1), 0, 6).subs(x+1,2),' = ',taylor(log(x+1), 0, 6).subs(x+1,2).evalf())\n",
        "print('Taylor 7 log(x+1) ≅', taylor(log(x+1), 0, 8).subs(x+1,2),' = ',taylor(log(x+1), 0, 7).subs(x+1,2).evalf())"
      ],
      "execution_count": 30,
      "outputs": [
        {
          "output_type": "stream",
          "name": "stdout",
          "text": [
            "Taylor 0 log(x+1) ≅ 0  =  0\n",
            "Taylor 1 log(x+1) ≅ 0  =  0\n",
            "Taylor 2 log(x+1) ≅ x  =  x\n",
            "Taylor 3 log(x+1) ≅ 1 - x**2/2  =  1.0 - 0.5*x**2\n",
            "Taylor 4 log(x+1) ≅ x**3/3 - x**2/2 + 1  =  0.333333333333333*x**3 - 0.5*x**2 + 1.0\n",
            "Taylor 5 log(x+1) ≅ -x**4/4 + x**3/3 - x**2/2 + 1  =  -0.25*x**4 + 0.333333333333333*x**3 - 0.5*x**2 + 1.0\n",
            "Taylor 6 log(x+1) ≅ x**5/5 - x**4/4 + x**3/3 - x**2/2 + 1  =  0.2*x**5 - 0.25*x**4 + 0.333333333333333*x**3 - 0.5*x**2 + 1.0\n",
            "Taylor 7 log(x+1) ≅ x**7/7 - x**6/6 + x**5/5 - x**4/4 + x**3/3 - x**2/2 + 1  =  -0.166666666666667*x**6 + 0.2*x**5 - 0.25*x**4 + 0.333333333333333*x**3 - 0.5*x**2 + 1.0\n"
          ]
        }
      ]
    },
    {
      "cell_type": "code",
      "metadata": {
        "colab": {
          "base_uri": "https://localhost:8080/"
        },
        "id": "8Ga4RK8tKmMc",
        "outputId": "743bea48-2171-41d8-aec9-cb1dbbe9260b"
      },
      "source": [
        "import math\n",
        "print('sympy sin(x)subs(x,2) =', sin(x).subs(x,2))\n",
        "print('sympy sin(x).subs(x,2).evalf() =', sin(x).subs(x,2).evalf())\n",
        "print('math.sin(2) =', math.sin(2))"
      ],
      "execution_count": 31,
      "outputs": [
        {
          "output_type": "stream",
          "name": "stdout",
          "text": [
            "sympy sin(x)subs(x,2) = sin(2)\n",
            "sympy sin(x).subs(x,2).evalf() = 0.909297426825682\n",
            "math.sin(2) = 0.9092974268256817\n"
          ]
        }
      ]
    },
    {
      "cell_type": "code",
      "metadata": {
        "colab": {
          "base_uri": "https://localhost:8080/"
        },
        "id": "ZNG_8JUvKoC4",
        "outputId": "9a1e2a48-9aac-43db-b90c-905c7d57035e"
      },
      "source": [
        "print('sympy log(x+1)subs(x+1,2) =', log(x+1).subs(x,2))\n",
        "print('sympy log(x+1).subs(x,2).evalf() =', log(x+1).subs(x,2).evalf())\n",
        "print('math.log(3) =', math.log(3))"
      ],
      "execution_count": 32,
      "outputs": [
        {
          "output_type": "stream",
          "name": "stdout",
          "text": [
            "sympy log(x+1)subs(x+1,2) = log(3)\n",
            "sympy log(x+1).subs(x,2).evalf() = 1.09861228866811\n",
            "math.log(3) = 1.0986122886681098\n"
          ]
        }
      ]
    },
    {
      "cell_type": "code",
      "metadata": {
        "colab": {
          "base_uri": "https://localhost:8080/",
          "height": 265
        },
        "id": "kcE4jC42KqCo",
        "outputId": "18b6562b-6b9c-48e7-bb27-1b7032d54644"
      },
      "source": [
        "import math\n",
        "import numpy as np\n",
        "import matplotlib.pyplot as plt\n",
        "# if using a Jupyter notebook, include:\n",
        "%matplotlib inline\n",
        "\n",
        "values = np.arange(-5,5,0.1)\n",
        "p_sin = np.sin(values)\n",
        "t_sin1 = [taylor(sin(x), 0, 1).subs(x,v) for v in values]\n",
        "legends = ['sin() ','Taylor 1 (constant)']\n",
        "\n",
        "fig, ax = plt.subplots()\n",
        "ax.plot(values,p_sin, color ='red')\n",
        "ax.plot(values,t_sin1)\n",
        "\n",
        "ax.set_ylim([-5,5])\n",
        "ax.axhline(y=0.0, xmin=-5.0, xmax=5.0, color='black')\n",
        "ax.axvline(x=0.0, ymin=-10.0, ymax=10.0, color='black')\n",
        "ax.legend(legends)\n",
        "\n",
        "plt.show()"
      ],
      "execution_count": 33,
      "outputs": [
        {
          "output_type": "display_data",
          "data": {
            "image/png": "[encoded data removed]",
            "text/plain": [
              "<Figure size 432x288 with 1 Axes>"
            ]
          },
          "metadata": {
            "needs_background": "light"
          }
        }
      ]
    },
    {
      "cell_type": "code",
      "metadata": {
        "colab": {
          "base_uri": "https://localhost:8080/",
          "height": 265
        },
        "id": "i4JgCVyTKsMU",
        "outputId": "00e36ac8-0fe1-4be4-b987-859c31ecbf31"
      },
      "source": [
        "values = np.arange(-5,5,0.1)\n",
        "p_log = np.sin(values)\n",
        "t_log1 = [taylor(log(x+1), 0, 1).subs(x,v) for v in values]\n",
        "legends = ['log() ','Taylor 1 (constant)']\n",
        "\n",
        "fig, ax = plt.subplots()\n",
        "ax.plot(values,p_log, color ='red')\n",
        "ax.plot(values,t_log1)\n",
        "\n",
        "ax.set_ylim([-5,5])\n",
        "ax.axhline(y=0.0, xmin=-5.0, xmax=5.0, color='black')\n",
        "ax.axvline(x=0.0, ymin=-10.0, ymax=10.0, color='black')\n",
        "ax.legend(legends)\n",
        "\n",
        "plt.show()"
      ],
      "execution_count": 34,
      "outputs": [
        {
          "output_type": "display_data",
          "data": {
            "image/png": "[encoded data removed]",
            "text/plain": [
              "<Figure size 432x288 with 1 Axes>"
            ]
          },
          "metadata": {
            "needs_background": "light"
          }
        }
      ]
    },
    {
      "cell_type": "code",
      "metadata": {
        "colab": {
          "base_uri": "https://localhost:8080/",
          "height": 265
        },
        "id": "BrH4w14eKudv",
        "outputId": "37a785a9-7ced-4e97-c058-2e7cbf26d19b"
      },
      "source": [
        "import math\n",
        "import numpy as np\n",
        "import matplotlib.pyplot as plt\n",
        "# if using a Jupyter notebook, include:\n",
        "%matplotlib inline\n",
        "\n",
        "values = np.arange(-5,5,0.1)\n",
        "p_sin = np.sin(values)\n",
        "t_sin2 = [taylor(sin(x), 0, 2).subs(x,v) for v in values]\n",
        "legends = ['sin() ','Taylor 2 (linear)']\n",
        "\n",
        "fig, ax = plt.subplots()\n",
        "ax.plot(values,p_sin, color ='red')\n",
        "ax.plot(values,t_sin2)\n",
        "\n",
        "ax.set_ylim([-5,5])\n",
        "ax.axhline(y=0.0, xmin=-5.0, xmax=5.0, color='black')\n",
        "ax.axvline(x=0.0, ymin=-10.0, ymax=10.0, color='black')\n",
        "ax.legend(legends)\n",
        "\n",
        "plt.show()"
      ],
      "execution_count": 35,
      "outputs": [
        {
          "output_type": "display_data",
          "data": {
            "image/png": "[encoded data removed]",
            "text/plain": [
              "<Figure size 432x288 with 1 Axes>"
            ]
          },
          "metadata": {
            "needs_background": "light"
          }
        }
      ]
    },
    {
      "cell_type": "code",
      "metadata": {
        "colab": {
          "base_uri": "https://localhost:8080/",
          "height": 301
        },
        "id": "moVbAX0tKxPf",
        "outputId": "83afad55-865a-4ce3-d4d7-99a63bccfc38"
      },
      "source": [
        "values = np.arange(-5,5,0.1)\n",
        "p_log = np.log(values)\n",
        "t_log2 = [taylor(log(x+1), 0, 2).subs(x,v) for v in values]\n",
        "legends = ['log() ','Taylor 2 (linear)']\n",
        "\n",
        "fig, ax = plt.subplots()\n",
        "ax.plot(values,p_log, color ='red')\n",
        "ax.plot(values,t_log2)\n",
        "\n",
        "ax.set_ylim([-5,5])\n",
        "ax.axhline(y=0.0, xmin=-5.0, xmax=5.0, color='black')\n",
        "ax.axvline(x=0.0, ymin=-10.0, ymax=10.0, color='black')\n",
        "ax.legend(legends)\n",
        "\n",
        "plt.show()"
      ],
      "execution_count": 36,
      "outputs": [
        {
          "output_type": "stream",
          "name": "stderr",
          "text": [
            "/usr/local/lib/python3.7/dist-packages/ipykernel_launcher.py:2: RuntimeWarning: invalid value encountered in log\n",
            "  \n"
          ]
        },
        {
          "output_type": "display_data",
          "data": {
            "image/png": "[encoded data removed]",
            "text/plain": [
              "<Figure size 432x288 with 1 Axes>"
            ]
          },
          "metadata": {
            "needs_background": "light"
          }
        }
      ]
    },
    {
      "cell_type": "code",
      "metadata": {
        "colab": {
          "base_uri": "https://localhost:8080/",
          "height": 265
        },
        "id": "benc-_b0K0EX",
        "outputId": "cffb9e53-faa6-407c-f187-1614372f096e"
      },
      "source": [
        "import math\n",
        "import numpy as np\n",
        "import matplotlib.pyplot as plt\n",
        "# if using a Jupyter notebook, include:\n",
        "%matplotlib inline\n",
        "\n",
        "values = np.arange(-5,5,0.1)\n",
        "p_sin = np.sin(values)\n",
        "t_sin3 = [taylor(sin(x), 0, 3).subs(x,v) for v in values]\n",
        "legends = ['sin() ','Taylor 3 (quadratic)']\n",
        "\n",
        "fig, ax = plt.subplots()\n",
        "ax.plot(values,p_sin, color ='red')\n",
        "ax.plot(values,t_sin3)\n",
        "\n",
        "ax.set_ylim([-5,5])\n",
        "ax.axhline(y=0.0, xmin=-5.0, xmax=5.0, color='black')\n",
        "ax.axvline(x=0.0, ymin=-10.0, ymax=10.0, color='black')\n",
        "ax.legend(legends)\n",
        "\n",
        "plt.show()"
      ],
      "execution_count": 37,
      "outputs": [
        {
          "output_type": "display_data",
          "data": {
            "image/png": "[encoded data removed]",
            "text/plain": [
              "<Figure size 432x288 with 1 Axes>"
            ]
          },
          "metadata": {
            "needs_background": "light"
          }
        }
      ]
    },
    {
      "cell_type": "code",
      "metadata": {
        "colab": {
          "base_uri": "https://localhost:8080/",
          "height": 301
        },
        "id": "_t8fgP_QK2Kn",
        "outputId": "1a7bc50c-71e2-4a8b-98eb-92f369d56ea2"
      },
      "source": [
        "values = np.arange(-5,5,0.1)\n",
        "p_log = np.log(values)\n",
        "t_log3 = [taylor(log(x+1), 0, 3).subs(x,v) for v in values]\n",
        "legends = ['log() ','Taylor 3 (quadratic)']\n",
        "\n",
        "fig, ax = plt.subplots()\n",
        "ax.plot(values,p_log, color ='red')\n",
        "ax.plot(values,t_log3)\n",
        "\n",
        "ax.set_ylim([-5,5])\n",
        "ax.axhline(y=0.0, xmin=-5.0, xmax=5.0, color='black')\n",
        "ax.axvline(x=0.0, ymin=-10.0, ymax=10.0, color='black')\n",
        "ax.legend(legends)\n",
        "\n",
        "plt.show()"
      ],
      "execution_count": 38,
      "outputs": [
        {
          "output_type": "stream",
          "name": "stderr",
          "text": [
            "/usr/local/lib/python3.7/dist-packages/ipykernel_launcher.py:2: RuntimeWarning: invalid value encountered in log\n",
            "  \n"
          ]
        },
        {
          "output_type": "display_data",
          "data": {
            "image/png": "[encoded data removed]",
            "text/plain": [
              "<Figure size 432x288 with 1 Axes>"
            ]
          },
          "metadata": {
            "needs_background": "light"
          }
        }
      ]
    },
    {
      "cell_type": "code",
      "metadata": {
        "colab": {
          "base_uri": "https://localhost:8080/",
          "height": 265
        },
        "id": "xGnCeS-gK4JI",
        "outputId": "13cb8618-6bda-4c9a-fe41-1566993c1a65"
      },
      "source": [
        "import math\n",
        "import numpy as np\n",
        "import matplotlib.pyplot as plt\n",
        "# if using a Jupyter notebook, include:\n",
        "%matplotlib inline\n",
        "\n",
        "values = np.arange(-5,5,0.1)\n",
        "p_sin = np.sin(values)\n",
        "t_sin4 = [taylor(sin(x), 0, 4).subs(x,v) for v in values]\n",
        "legends = ['sin() ','Taylor 4 (cubic)']\n",
        "\n",
        "fig, ax = plt.subplots()\n",
        "ax.plot(values,p_sin, color ='red')\n",
        "ax.plot(values,t_sin4)\n",
        "\n",
        "ax.set_ylim([-5,5])\n",
        "ax.axhline(y=0.0, xmin=-5.0, xmax=5.0, color='black')\n",
        "ax.axvline(x=0.0, ymin=-10.0, ymax=10.0, color='black')\n",
        "ax.legend(legends)\n",
        "\n",
        "plt.show()"
      ],
      "execution_count": 39,
      "outputs": [
        {
          "output_type": "display_data",
          "data": {
            "image/png": "[encoded data removed]",
            "text/plain": [
              "<Figure size 432x288 with 1 Axes>"
            ]
          },
          "metadata": {
            "needs_background": "light"
          }
        }
      ]
    },
    {
      "cell_type": "code",
      "metadata": {
        "colab": {
          "base_uri": "https://localhost:8080/",
          "height": 301
        },
        "id": "-ExYRxVAK58n",
        "outputId": "5bae403f-e107-40a7-ea52-6e5db1020a5e"
      },
      "source": [
        "values = np.arange(-5,5,0.1)\n",
        "p_log = np.log(values)\n",
        "t_log4 = [taylor(log(x+1), 0, 4).subs(x,v) for v in values]\n",
        "legends = ['log() ','Taylor 4 (cubic)']\n",
        "\n",
        "fig, ax = plt.subplots()\n",
        "ax.plot(values,p_log, color ='red')\n",
        "ax.plot(values,t_log4)\n",
        "\n",
        "ax.set_ylim([-5,5])\n",
        "ax.axhline(y=0.0, xmin=-5.0, xmax=5.0, color='black')\n",
        "ax.axvline(x=0.0, ymin=-10.0, ymax=10.0, color='black')\n",
        "ax.legend(legends)\n",
        "\n",
        "plt.show()"
      ],
      "execution_count": 40,
      "outputs": [
        {
          "output_type": "stream",
          "name": "stderr",
          "text": [
            "/usr/local/lib/python3.7/dist-packages/ipykernel_launcher.py:2: RuntimeWarning: invalid value encountered in log\n",
            "  \n"
          ]
        },
        {
          "output_type": "display_data",
          "data": {
            "image/png": "[encoded data removed]",
            "text/plain": [
              "<Figure size 432x288 with 1 Axes>"
            ]
          },
          "metadata": {
            "needs_background": "light"
          }
        }
      ]
    },
    {
      "cell_type": "code",
      "metadata": {
        "colab": {
          "base_uri": "https://localhost:8080/",
          "height": 265
        },
        "id": "KtzWNayrK77O",
        "outputId": "9b9e4aab-3365-4f90-96f1-d3ce75f95868"
      },
      "source": [
        "import math\n",
        "import numpy as np\n",
        "import matplotlib.pyplot as plt\n",
        "# if using a Jupyter notebook, include:\n",
        "%matplotlib inline\n",
        "\n",
        "values = np.arange(-5,5,0.1)\n",
        "p_sin = np.sin(values)\n",
        "t_sin1 = [taylor(sin(x), 0, 1).subs(x,v) for v in values]\n",
        "t_sin2 = [taylor(sin(x), 0, 2).subs(x,v) for v in values]\n",
        "t_sin3 = [taylor(sin(x), 0, 3).subs(x,v) for v in values]\n",
        "t_sin4 = [taylor(sin(x), 0, 4).subs(x,v) for v in values]\n",
        "legends = ['sin() ','Taylor 1 (constant)','Taylor 3 (linear)','Taylor 3 (quadratic)','Taylor 4 (cubic)']\n",
        "\n",
        "fig, ax = plt.subplots()\n",
        "ax.plot(values,p_sin)\n",
        "ax.plot(values,t_sin1)\n",
        "ax.plot(values,t_sin2)\n",
        "ax.plot(values,t_sin3)\n",
        "ax.plot(values,t_sin4)\n",
        "\n",
        "ax.set_ylim([-5,5])\n",
        "ax.axhline(y=0.0, xmin=-5.0, xmax=5.0, color='black')\n",
        "ax.axvline(x=0.0, ymin=-10.0, ymax=10.0, color='black')\n",
        "ax.legend(legends)\n",
        "\n",
        "plt.show()"
      ],
      "execution_count": 41,
      "outputs": [
        {
          "output_type": "display_data",
          "data": {
            "image/png": "[encoded data removed]",
            "text/plain": [
              "<Figure size 432x288 with 1 Axes>"
            ]
          },
          "metadata": {
            "needs_background": "light"
          }
        }
      ]
    },
    {
      "cell_type": "code",
      "metadata": {
        "colab": {
          "base_uri": "https://localhost:8080/",
          "height": 301
        },
        "id": "z7Qo7ggWK9zX",
        "outputId": "47d8dd4e-69b4-4b89-c4d3-8b6260015d59"
      },
      "source": [
        "values = np.arange(-5,5,0.1)\n",
        "p_log = np.log(values)\n",
        "t_log1 = [taylor(log(x+1), 0, 1).subs(x,v) for v in values]\n",
        "t_log2 = [taylor(log(x+1), 0, 2).subs(x,v) for v in values]\n",
        "t_log3 = [taylor(log(x+1), 0, 3).subs(x,v) for v in values]\n",
        "t_log4 = [taylor(log(x+1), 0, 4).subs(x,v) for v in values]\n",
        "legends = ['log() ','Taylor 1 (constant)','Taylor 3 (linear)','Taylor 3 (quadratic)','Taylor 4 (cubic)']\n",
        "\n",
        "fig, ax = plt.subplots()\n",
        "ax.plot(values,p_log)\n",
        "ax.plot(values,t_log1)\n",
        "ax.plot(values,t_log2)\n",
        "ax.plot(values,t_log3)\n",
        "ax.plot(values,t_log4)\n",
        "\n",
        "ax.set_ylim([-5,5])\n",
        "ax.axhline(y=0.0, xmin=-5.0, xmax=5.0, color='black')\n",
        "ax.axvline(x=0.0, ymin=-10.0, ymax=10.0, color='black')\n",
        "ax.legend(legends)\n",
        "\n",
        "plt.show()"
      ],
      "execution_count": 42,
      "outputs": [
        {
          "output_type": "stream",
          "name": "stderr",
          "text": [
            "/usr/local/lib/python3.7/dist-packages/ipykernel_launcher.py:2: RuntimeWarning: invalid value encountered in log\n",
            "  \n"
          ]
        },
        {
          "output_type": "display_data",
          "data": {
            "image/png": "[encoded data removed]",
            "text/plain": [
              "<Figure size 432x288 with 1 Axes>"
            ]
          },
          "metadata": {
            "needs_background": "light"
          }
        }
      ]
    },
    {
      "cell_type": "markdown",
      "metadata": {
        "id": "yQKhEQfPLED4"
      },
      "source": [
        "# ***3. Taylor $e^x$ Error***\n",
        "\n"
      ]
    },
    {
      "cell_type": "code",
      "metadata": {
        "colab": {
          "base_uri": "https://localhost:8080/"
        },
        "id": "S1MFhI7fLY1G",
        "outputId": "19eeebc9-5a5e-4647-b983-31b57090a745"
      },
      "source": [
        "import math\n",
        "\n",
        "x = 2\n",
        "e_to_2 = x**0/math.factorial(0) + x**1/math.factorial(1) + x**2/math.factorial(2) + x**3/math.factorial(3) + x**4/math.factorial(4)\n",
        "print(e_to_2)"
      ],
      "execution_count": 43,
      "outputs": [
        {
          "output_type": "stream",
          "name": "stdout",
          "text": [
            "7.0\n"
          ]
        }
      ]
    },
    {
      "cell_type": "code",
      "metadata": {
        "colab": {
          "base_uri": "https://localhost:8080/"
        },
        "id": "9ryVrf9eLaTf",
        "outputId": "2e7b73b2-9f3e-4e48-d727-ada44f263525"
      },
      "source": [
        "print(math.exp(2))"
      ],
      "execution_count": 44,
      "outputs": [
        {
          "output_type": "stream",
          "name": "stdout",
          "text": [
            "7.38905609893065\n"
          ]
        }
      ]
    },
    {
      "cell_type": "code",
      "metadata": {
        "colab": {
          "base_uri": "https://localhost:8080/"
        },
        "id": "C-lEL1eYLcR3",
        "outputId": "6f3c4564-3e78-4403-9d90-c4bd0bce57c4"
      },
      "source": [
        "import math\n",
        "\n",
        "x = 2\n",
        "e_to_2 = 0\n",
        "for i in range(10):\n",
        "    e_to_2 += x**i/math.factorial(i) \n",
        "print(e_to_2)"
      ],
      "execution_count": 45,
      "outputs": [
        {
          "output_type": "stream",
          "name": "stdout",
          "text": [
            "7.3887125220458545\n"
          ]
        }
      ]
    },
    {
      "cell_type": "markdown",
      "metadata": {
        "id": "v4g_6v_BLfX3"
      },
      "source": [
        "For the Taylor series for $f(x) = e^x$ about $c=0$ (Maclaurin) \n",
        "\n",
        "$$ E_n = \\frac{f^{(n+1)}(\\xi)}{(n+1)!}(x-c)^{(n+1)} = \\frac{e^\\xi}{(n+1)!}x^{(n+1)} \\le  \\frac{e^x}{(n+1)!}x^{(n+1)},\\text{ given that } $$\n",
        "\n",
        "\n",
        "If we want $E_n \\le \\epsilon$ then we need $n$ such that because $e^x \\ge e^\\xi$, for  $c=0 \\le \\xi \\le x$ \n",
        "\n",
        "\n",
        "$$ \\frac{e^x}{(n+1)!}x^{(n+1)} < \\epsilon$$ \n",
        "\n",
        "because $e^x \\ge e^\\xi$, for  $0 \\le \\xi \\le x$."
      ]
    },
    {
      "cell_type": "code",
      "metadata": {
        "colab": {
          "base_uri": "https://localhost:8080/"
        },
        "id": "LPeh-KE1Lf8W",
        "outputId": "9957e416-820a-46a8-8348-06a4c841c617"
      },
      "source": [
        "import math\n",
        "\n",
        "x = 1\n",
        "epsilon = 10**(-12)\n",
        "\n",
        "for k in range(1000):\n",
        "  if (  ( (math.exp(x) * x**(k+1)) / math.factorial(k+1) ) < epsilon):\n",
        "    break\n",
        "print(k)\n",
        "\n",
        "e_to_x = 0\n",
        "for i in range(k):\n",
        "    print(i,' ',e_to_x, ' delta ', x**i/math.factorial(i))\n",
        "    e_to_x += x**i/math.factorial(i) \n",
        "    \n",
        "print('math.exp(10) = ',math.exp(1))"
      ],
      "execution_count": 46,
      "outputs": [
        {
          "output_type": "stream",
          "name": "stdout",
          "text": [
            "15\n",
            "0   0  delta  1.0\n",
            "1   1.0  delta  1.0\n",
            "2   2.0  delta  0.5\n",
            "3   2.5  delta  0.16666666666666666\n",
            "4   2.6666666666666665  delta  0.041666666666666664\n",
            "5   2.708333333333333  delta  0.008333333333333333\n",
            "6   2.7166666666666663  delta  0.001388888888888889\n",
            "7   2.7180555555555554  delta  0.0001984126984126984\n",
            "8   2.7182539682539684  delta  2.48015873015873e-05\n",
            "9   2.71827876984127  delta  2.7557319223985893e-06\n",
            "10   2.7182815255731922  delta  2.755731922398589e-07\n",
            "11   2.7182818011463845  delta  2.505210838544172e-08\n",
            "12   2.718281826198493  delta  2.08767569878681e-09\n",
            "13   2.7182818282861687  delta  1.6059043836821613e-10\n",
            "14   2.7182818284467594  delta  1.1470745597729725e-11\n",
            "math.exp(10) =  2.718281828459045\n"
          ]
        }
      ]
    },
    {
      "cell_type": "markdown",
      "metadata": {
        "id": "83IXnmaLLiHn"
      },
      "source": [
        "$$ \\frac{e^x}{(n+1)!}x^{(n+1)} < \\frac{3^x}{(n+1)!}x^{(n+1)} < \\epsilon$$ "
      ]
    },
    {
      "cell_type": "code",
      "metadata": {
        "colab": {
          "base_uri": "https://localhost:8080/"
        },
        "id": "JiPGOHYnLkXX",
        "outputId": "0a3f2028-5136-406d-997b-f90ec2497d4e"
      },
      "source": [
        "import math\n",
        "\n",
        "x = 1\n",
        "epsilon = 10**(-8)\n",
        "\n",
        "for k in range(1000):\n",
        "  if (  ( (3**x * x**(k+1)) / math.factorial(k+1) ) < epsilon):\n",
        "    break\n",
        "print(k)\n",
        "\n",
        "e_to_x = 0\n",
        "for i in range(k+1):\n",
        "    print(i,' ',e_to_x, ' delta ', x**i/math.factorial(i))\n",
        "    e_to_x += x**i/math.factorial(i) \n",
        "    \n",
        "print('math.exp(10) = ',math.exp(10))"
      ],
      "execution_count": 47,
      "outputs": [
        {
          "output_type": "stream",
          "name": "stdout",
          "text": [
            "11\n",
            "0   0  delta  1.0\n",
            "1   1.0  delta  1.0\n",
            "2   2.0  delta  0.5\n",
            "3   2.5  delta  0.16666666666666666\n",
            "4   2.6666666666666665  delta  0.041666666666666664\n",
            "5   2.708333333333333  delta  0.008333333333333333\n",
            "6   2.7166666666666663  delta  0.001388888888888889\n",
            "7   2.7180555555555554  delta  0.0001984126984126984\n",
            "8   2.7182539682539684  delta  2.48015873015873e-05\n",
            "9   2.71827876984127  delta  2.7557319223985893e-06\n",
            "10   2.7182815255731922  delta  2.755731922398589e-07\n",
            "11   2.7182818011463845  delta  2.505210838544172e-08\n",
            "math.exp(10) =  22026.465794806718\n"
          ]
        }
      ]
    },
    {
      "cell_type": "code",
      "metadata": {
        "colab": {
          "base_uri": "https://localhost:8080/"
        },
        "id": "t70GPUaILnh0",
        "outputId": "60b5281c-1bf0-46de-8a2b-5c01ba2472c8"
      },
      "source": [
        "import math\n",
        "\n",
        "x = 1\n",
        "epsilon = 10**(-3)\n",
        "delta = 1\n",
        "e_to_x = 0\n",
        "i = 0\n",
        "while  epsilon <= delta:\n",
        "  delta = x**i/math.factorial(i) \n",
        "  e_to_x += delta\n",
        "  i = i+1\n",
        "print(i-1) \n",
        "print('e_to_x = ',e_to_x)    \n",
        "print('math.exp(1) = ',math.exp(1))"
      ],
      "execution_count": 48,
      "outputs": [
        {
          "output_type": "stream",
          "name": "stdout",
          "text": [
            "7\n",
            "e_to_x =  2.7182539682539684\n",
            "math.exp(1) =  2.718281828459045\n"
          ]
        }
      ]
    },
    {
      "cell_type": "markdown",
      "metadata": {
        "id": "2bs98b9ULp3_"
      },
      "source": [
        "## $sin (x)$"
      ]
    },
    {
      "cell_type": "code",
      "metadata": {
        "colab": {
          "base_uri": "https://localhost:8080/"
        },
        "id": "tGOs8tiILqoH",
        "outputId": "d20a4d86-2291-4b7e-d4fd-c8cb4616f524"
      },
      "source": [
        "import math\n",
        "\n",
        "x = 10\n",
        "epsilon = 10**(-4)\n",
        "\n",
        "for k in range(1000):\n",
        "  coef = (-1)**k\n",
        "  num = x**(2*k + 1)\n",
        "  denom = math.factorial(2*k + 1)\n",
        "  if abs((math.sin(x) * ( coef * ( (num)/(denom) ) ))) < epsilon:\n",
        "    break\n",
        "print(k)\n",
        "\n",
        "sin = 0\n",
        "for i in range(k):\n",
        "  coef = (-1)**i\n",
        "  num = x**(2*i + 1)\n",
        "  denom = math.factorial(2*i + 1)\n",
        "  print(i,' ',sin, ' delta ', abs(( coef ) * ( (num)/(denom) )))\n",
        "  sin += ( coef ) * ( (num)/(denom) )\n",
        "    \n",
        "print('math.sin(10) = ', math.sin(x))"
      ],
      "execution_count": 49,
      "outputs": [
        {
          "output_type": "stream",
          "name": "stdout",
          "text": [
            "16\n",
            "0   0  delta  10.0\n",
            "1   10.0  delta  166.66666666666666\n",
            "2   -156.66666666666666  delta  833.3333333333334\n",
            "3   676.6666666666667  delta  1984.126984126984\n",
            "4   -1307.4603174603174  delta  2755.731922398589\n",
            "5   1448.2716049382718  delta  2505.210838544172\n",
            "6   -1056.9392336059002  delta  1605.9043836821616\n",
            "7   548.9651500762614  delta  764.7163731819817\n",
            "8   -215.75122310572033  delta  281.14572543455205\n",
            "9   65.39450232883172  delta  82.2063524662433\n",
            "10   -16.811850137411582  delta  19.572941063391262\n",
            "11   2.76109092597968  delta  3.868170170630684\n",
            "12   -1.107079244651004  delta  0.6446950284384474\n",
            "13   -0.46238421621255665  delta  0.09183689863795547\n",
            "14   -0.5542211148505121  delta  0.011309962886447717\n",
            "15   -0.5429111519640644  delta  0.001216125041553518\n",
            "math.sin(10) =  -0.5440211108893698\n"
          ]
        }
      ]
    },
    {
      "cell_type": "code",
      "metadata": {
        "colab": {
          "base_uri": "https://localhost:8080/"
        },
        "id": "KgHc9DoHLueu",
        "outputId": "88fdf040-e47e-4630-aece-145383fe37fa"
      },
      "source": [
        "import math\n",
        "\n",
        "x = 10\n",
        "epsilon = 10**(-4)\n",
        "delta = 1\n",
        "sin = 0\n",
        "i = 0\n",
        "while  epsilon <= abs(delta):\n",
        "  coef = (-1)**i\n",
        "  num = x**(2*i + 1)\n",
        "  denom = math.factorial(2*i + 1)\n",
        "  delta = ( coef ) * ( (num)/(denom) )\n",
        "  sin += delta\n",
        "  i = i+1\n",
        "print(i-1) \n",
        "print('sin = ',sin)    \n",
        "print('math.sin(10) = ',math.sin(x))"
      ],
      "execution_count": 50,
      "outputs": [
        {
          "output_type": "stream",
          "name": "stdout",
          "text": [
            "17\n",
            "sin =  -0.5440217912423688\n",
            "math.sin(10) =  -0.5440211108893698\n"
          ]
        }
      ]
    },
    {
      "cell_type": "markdown",
      "metadata": {
        "id": "N_HKnCgeLwiW"
      },
      "source": [
        "## $ln (1+x)$"
      ]
    },
    {
      "cell_type": "code",
      "metadata": {
        "colab": {
          "base_uri": "https://localhost:8080/"
        },
        "id": "hdBpgo8rLxKe",
        "outputId": "cf4217a2-a07d-4382-cd50-1cac694bb543"
      },
      "source": [
        "import numpy as np\n",
        "import math\n",
        "\n",
        "x = 0.1\n",
        "epsilon = 10**(-16)\n",
        "\n",
        "for k in range(1, 1000):\n",
        "  if abs((np.log(1+x) * (-( ((-1)**k)*(x**k)/k )))) < epsilon:\n",
        "    break\n",
        "print(k)\n",
        "\n",
        "log_1 = 0\n",
        "for i in range(1, k):\n",
        "  print(i,' ',log_1, ' delta ', ((-( ((-1)**i)*(x**i)/i ))))\n",
        "  log_1 += ((-( ((-1)**i)*(x**i)/i )))\n",
        "\n",
        "a = np.log(1+x)\n",
        "print('ln(1+n) = ', a)"
      ],
      "execution_count": 51,
      "outputs": [
        {
          "output_type": "stream",
          "name": "stdout",
          "text": [
            "14\n",
            "1   0  delta  0.1\n",
            "2   0.1  delta  -0.005000000000000001\n",
            "3   0.095  delta  0.00033333333333333343\n",
            "4   0.09533333333333334  delta  -2.5000000000000005e-05\n",
            "5   0.09530833333333334  delta  2.0000000000000003e-06\n",
            "6   0.09531033333333334  delta  -1.6666666666666673e-07\n",
            "7   0.09531016666666668  delta  1.4285714285714291e-08\n",
            "8   0.09531018095238097  delta  -1.2500000000000006e-09\n",
            "9   0.09531017970238097  delta  1.1111111111111116e-10\n",
            "10   0.09531017981349207  delta  -1.0000000000000006e-11\n",
            "11   0.09531017980349207  delta  9.090909090909096e-13\n",
            "12   0.09531017980440117  delta  -8.333333333333339e-14\n",
            "13   0.09531017980431783  delta  7.692307692307697e-15\n",
            "ln(1+n) =  0.09531017980432493\n"
          ]
        }
      ]
    },
    {
      "cell_type": "code",
      "metadata": {
        "colab": {
          "base_uri": "https://localhost:8080/"
        },
        "id": "kBw6rUKdLzG2",
        "outputId": "f40df833-b7a8-41df-bfaf-02d157db5b34"
      },
      "source": [
        "import math\n",
        "\n",
        "x = 0.1\n",
        "epsilon = 10**(-4)\n",
        "delta = 1\n",
        "function = 0\n",
        "i = 1\n",
        "while  epsilon <= delta:\n",
        "  delta = (-( ((-1)**i)*(x**i)/i ))\n",
        "  function += delta\n",
        "  i = i+1\n",
        "print(i-1) \n",
        "print('ln(1+x) = ',function)    \n",
        "print('ln(1+x) = ',np.log(1+x))"
      ],
      "execution_count": 52,
      "outputs": [
        {
          "output_type": "stream",
          "name": "stdout",
          "text": [
            "2\n",
            "ln(1+x) =  0.095\n",
            "ln(1+x) =  0.09531017980432493\n"
          ]
        }
      ]
    }
  ]
}