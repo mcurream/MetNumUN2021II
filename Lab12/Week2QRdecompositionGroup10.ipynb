{
  "nbformat": 4,
  "nbformat_minor": 0,
  "metadata": {
    "kernelspec": {
      "display_name": "Python 3",
      "language": "python",
      "name": "python3"
    },
    "language_info": {
      "codemirror_mode": {
        "name": "ipython",
        "version": 3
      },
      "file_extension": ".py",
      "mimetype": "text/x-python",
      "name": "python",
      "nbconvert_exporter": "python",
      "pygments_lexer": "ipython3",
      "version": "3.5.2"
    },
    "colab": {
      "name": "Householder Reflection and QR Decomposition.ipynb",
      "provenance": []
    }
  },
  "cells": [
    {
      "cell_type": "code",
      "metadata": {
        "collapsed": true,
        "id": "CFww4z55MqfP"
      },
      "source": [
        "import numpy as np\n",
        "import math\n",
        "\n",
        "from numpy.testing import assert_allclose"
      ],
      "execution_count": null,
      "outputs": []
    },
    {
      "cell_type": "markdown",
      "metadata": {
        "id": "72Na8poYMqfR"
      },
      "source": [
        "# Part I. Construct a Householder reflection of a vector."
      ]
    },
    {
      "cell_type": "markdown",
      "metadata": {
        "id": "hqm4y6LJMqfS"
      },
      "source": [
        "Given a vector $\\mathbf{x}$, and a plane with a normal vector $\\mathbf{u}$, the Householder transformation reflects $\\mathbf{x}$ about the plane.\n",
        "\n",
        "The matrix of the Householder transformation is\n",
        "\n",
        "$$\n",
        "\\mathbf{H} = \\mathbf{1} - 2 \\mathbf{u} \\mathbf{u}^T\n",
        "$$\n",
        "\n",
        "Given two equal-length vectors $\\mathbf{x}$ and $\\mathbf{y}$, a rotation which brings $\\mathbf{x}$ to $\\mathbf{y}$ is a Householder transform with\n",
        "\n",
        "$$\n",
        "\\mathbf{u} = \\frac{\\mathbf{x} - \\mathbf{y}}{\\left|\\mathbf{x} - \\mathbf{y}\\right|}\n",
        "$$"
      ]
    },
    {
      "cell_type": "markdown",
      "metadata": {
        "id": "pxWglicHMqfT"
      },
      "source": [
        "Write a function which rotates a given vector, $\\mathbf{x} = (x_1, \\dots, x_n)$ into $\\mathbf{y} = (\\left|\\mathbf{x}\\right|, 0, \\dots, 0)^T$ using a Householder transformation."
      ]
    },
    {
      "cell_type": "code",
      "metadata": {
        "collapsed": true,
        "id": "CVqBG4DOMqfU"
      },
      "source": [
        "def householder(vec):\n",
        "    vec = np.asarray(vec, dtype=float)\n",
        "    if vec.ndim != 1:\n",
        "        raise ValueError(\"vec.ndim = %s, expected 1\" % vec.ndim)\n",
        "\n",
        "    v_norm = np.linalg.norm(vec, ord=2) #norm of the vector, corrected for order\n",
        "\n",
        "    u = vec.copy() #operational vector\n",
        "\n",
        "    u[0] = (vec[0]**2 - v_norm**2) / (vec[0] + v_norm)\n",
        "    u_norm = np.linalg.norm(u, ord=2) \n",
        "    u = (u / u_norm)[np.newaxis]\n",
        "    \n",
        "    N = len(vec) #Vector size/length/shape\n",
        "    H = np.eye(N) - 2 * np.matmul(u.T, u)\n",
        "    V1 = np.dot(H, vec)\n",
        "    \n",
        "\n",
        "    return V1 , H\n",
        "    "
      ],
      "execution_count": null,
      "outputs": []
    },
    {
      "cell_type": "markdown",
      "metadata": {
        "id": "n6HAVKLOMqfV"
      },
      "source": [
        "Test your function using tests below:"
      ]
    },
    {
      "cell_type": "code",
      "metadata": {
        "collapsed": true,
        "colab": {
          "base_uri": "https://localhost:8080/"
        },
        "id": "RM4gBu0QMqfV",
        "outputId": "26b416fd-f02a-4638-c57f-dd479d968291"
      },
      "source": [
        "# Test I.1 (10% of the total grade).\n",
        "\n",
        "v = np.array([1, 2, 3])\n",
        "#print(v)\n",
        "v1, h = householder(v)\n",
        "\n",
        "\n",
        "assert_allclose(np.dot(h, v1), v, atol=1e-8)\n",
        "print(np.dot(h, v1), v)\n",
        "assert_allclose(np.dot(h, v), v1, atol=1e-8)\n",
        "print(np.dot(h, v), v1)"
      ],
      "execution_count": null,
      "outputs": [
        {
          "output_type": "stream",
          "name": "stdout",
          "text": [
            "[1. 2. 3.] [1 2 3]\n",
            "[3.74165739e+00 2.22044605e-16 0.00000000e+00] [3.74165739e+00 2.22044605e-16 0.00000000e+00]\n"
          ]
        }
      ]
    },
    {
      "cell_type": "code",
      "metadata": {
        "collapsed": true,
        "id": "AOmRnWuBMqfV"
      },
      "source": [
        "# Test I.2 (10% of the total grade).\n",
        "\n",
        "rndm = np.random.RandomState(1234)\n",
        "\n",
        "vec = rndm.uniform(size=7)\n",
        "v1, h = householder(vec)\n",
        "\n",
        "assert_allclose(np.dot(h, v1), vec)"
      ],
      "execution_count": null,
      "outputs": []
    },
    {
      "cell_type": "markdown",
      "metadata": {
        "id": "wlekQxNFMqfV"
      },
      "source": [
        "# Part II. Compute the $\\mathrm{QR}$ decomposition of a matrix.\n",
        "\n",
        "Given a rectangular $m\\times n$ matrix $\\mathbf{A}$, construct a Householder reflector matrix $\\mathbf{H}_1$ which transforms the first column of $\\mathbf{A}$ (and call the result $\\mathbf{A}^{(1)}$)\n",
        "\n",
        "$$\n",
        "\\mathbf{H}_1 \\mathbf{A} =%\n",
        "\\begin{pmatrix}\n",
        "\\times & \\times & \\times & \\dots & \\times \\\\\n",
        "0      & \\times & \\times & \\dots & \\times \\\\\n",
        "0      & \\times & \\times & \\dots & \\times \\\\\n",
        "&& \\dots&& \\\\\n",
        "0      & \\times & \\times & \\dots & \\times \\\\\n",
        "\\end{pmatrix}%\n",
        "\\equiv \\mathbf{A}^{(1)}\\;.\n",
        "$$\n",
        "\n",
        "Now consider the lower-right submatrix of $\\mathbf{A}^{(1)}$, and construct a Householder reflector which annihilates the second column of $\\mathbf{A}$:\n",
        "\n",
        "$$\n",
        "\\mathbf{H}_2 \\mathbf{A}^{(1)} =%\n",
        "\\begin{pmatrix}\n",
        "\\times & \\times & \\times & \\dots & \\times \\\\\n",
        "0      & \\times & \\times & \\dots & \\times \\\\\n",
        "0      & 0      & \\times & \\dots & \\times \\\\\n",
        "&& \\dots&& \\\\\n",
        "0      & 0      & \\times & \\dots & \\times \\\\\n",
        "\\end{pmatrix}%\n",
        "\\equiv \\mathbf{A}^{(2)} \\;.\n",
        "$$\n",
        "\n",
        "Repeating the process $n-1$ times, we obtain\n",
        "\n",
        "$$\n",
        "\\mathbf{H}_{n-1} \\cdots \\mathbf{H}_2 \\mathbf{H}_1 \\mathbf{A} = \\mathbf{R} \\;,\n",
        "$$\n",
        "\n",
        "with $\\mathbf{R}$ an upper triangular matrix. Since each $\\mathbf{H}_k$ is orthogonal, so is their product. The inverse of an orthogonal matrix is orthogonal. Hence the process generates the $\\mathrm{QR}$ decomposition of $\\mathbf{A}$. "
      ]
    },
    {
      "cell_type": "markdown",
      "metadata": {
        "id": "E09DLMeNMqfX"
      },
      "source": [
        "Write a function, which receives a recangular matrix, $A$, and returns the Q and R factors of the $QR$ factorization of $A$."
      ]
    },
    {
      "cell_type": "code",
      "metadata": {
        "collapsed": true,
        "id": "SlwlXFAYMqfX"
      },
      "source": [
        "def qr_decomp(a):\n",
        "    \n",
        "    a1 = np.array(a, copy=True, dtype=float)\n",
        "    m, n = a1.shape\n",
        "    Q, R = np.eye(m), a1\n",
        "    \n",
        "    for i in range(n): \n",
        "        _, H = householder(R[i:, i]) #making use of the function just defined\n",
        "        h_i = np.eye(m) #Identity\n",
        "        h_i[i:, i:] = H\n",
        "        \n",
        "        Q = np.matmul(Q, h_i)\n",
        "        R = np.matmul(h_i, R)\n",
        "    \n",
        "    return Q, R"
      ],
      "execution_count": null,
      "outputs": []
    },
    {
      "cell_type": "code",
      "metadata": {
        "collapsed": true,
        "id": "n1BJg-CdMqfY"
      },
      "source": [
        "# Might want to turn this on for prettier printing: zeros instead of `1e-16` etc\n",
        "\n",
        "np.set_printoptions(suppress=True)"
      ],
      "execution_count": null,
      "outputs": []
    },
    {
      "cell_type": "code",
      "metadata": {
        "collapsed": true,
        "id": "-xgLQ0PgMqfY"
      },
      "source": [
        "# Test II.1 (20% of the total grade)\n",
        "\n",
        "rndm = np.random.RandomState(1234)\n",
        "a = rndm.uniform(size=(5, 3))\n",
        "q, r = qr_decomp(a)\n",
        "\n",
        "# test that Q is indeed orthogonal\n",
        "assert_allclose(np.dot(q, q.T), np.eye(5), atol=1e-10)\n",
        "\n",
        "# test the decomposition itself\n",
        "assert_allclose(np.dot(q, r), a)"
      ],
      "execution_count": null,
      "outputs": []
    },
    {
      "cell_type": "markdown",
      "metadata": {
        "id": "dzHarcgMMqfY"
      },
      "source": [
        "Now compare your decompositions to the library function (which actually wraps the corresponding LAPACK functions)"
      ]
    },
    {
      "cell_type": "code",
      "metadata": {
        "collapsed": true,
        "id": "EohSgjZdMqfY"
      },
      "source": [
        "from scipy.linalg import qr\n",
        "qq, rr = qr(a)\n",
        "\n",
        "assert_allclose(np.dot(qq, rr), a)"
      ],
      "execution_count": null,
      "outputs": []
    },
    {
      "cell_type": "markdown",
      "metadata": {
        "id": "GXmeh2xbMqfZ"
      },
      "source": [
        "Check if your `q` and `r` agree with `qq` and `rr`. Explain."
      ]
    },
    {
      "cell_type": "code",
      "metadata": {
        "colab": {
          "base_uri": "https://localhost:8080/"
        },
        "id": "Pvl4GS26cY3W",
        "outputId": "d4cec2b2-e368-49e5-a294-8ee01fe768aa"
      },
      "source": [
        "print('Q', q)\n",
        "print('----------')\n",
        "print('R', r)\n",
        "print('----------')\n",
        "print('QQ', qq)\n",
        "print('----------')\n",
        "print('RR', rr)\n",
        "print('----------')"
      ],
      "execution_count": null,
      "outputs": [
        {
          "output_type": "stream",
          "name": "stdout",
          "text": [
            "Q [[ 0.13665049  0.53601299 -0.09369752  0.7697136   0.30459557]\n",
            " [ 0.56035895  0.0935397  -0.53326881  0.01839528 -0.62652547]\n",
            " [ 0.19725922  0.65948912  0.60068463 -0.32384673 -0.24589462]\n",
            " [ 0.62498418 -0.50418303  0.52144688  0.28453698  0.04822969]\n",
            " [ 0.48765568  0.12171264 -0.27224305 -0.47049398  0.67223293]]\n",
            "----------\n",
            "R [[ 1.40152769  1.2514379   0.89523615]\n",
            " [ 0.          0.84158252  0.68447942]\n",
            " [-0.         -0.          0.5496046 ]\n",
            " [ 0.          0.         -0.        ]\n",
            " [ 0.         -0.          0.        ]]\n",
            "----------\n",
            "QQ [[-0.13665049  0.53601299  0.09369752  0.661619   -0.49749149]\n",
            " [-0.56035895  0.0935397   0.53326881 -0.52477245 -0.34276292]\n",
            " [-0.19725922  0.65948912 -0.60068463 -0.37879015  0.14784752]\n",
            " [-0.62498418 -0.50418303 -0.52144688  0.18967657 -0.21750907]\n",
            " [-0.48765568  0.12171264  0.27224305  0.32774225  0.75222783]]\n",
            "----------\n",
            "RR [[-1.40152769 -1.2514379  -0.89523615]\n",
            " [ 0.          0.84158252  0.68447942]\n",
            " [ 0.          0.         -0.5496046 ]\n",
            " [ 0.          0.          0.        ]\n",
            " [ 0.          0.          0.        ]]\n",
            "----------\n"
          ]
        }
      ]
    },
    {
      "cell_type": "markdown",
      "metadata": {
        "id": "HrgcLk8xMqfZ"
      },
      "source": [
        "*Enter your explanation here* (10% of the total grade, peer-graded)"
      ]
    },
    {
      "cell_type": "markdown",
      "metadata": {
        "id": "uPhut5o0cwDM"
      },
      "source": [
        "QR matrix decomposition has some particularities, for example that Negating Q and R, yields a new, ans still valid QR decomposition. It also turns out that we can arbitrarily flip the signs of (one or more of) the elements on the diagonal of R, that and the rows and columns number are not equal (not a square matrix). So I can in fact imply that those last columns can be whatever I want, and still get a QR decomposed matrix."
      ]
    },
    {
      "cell_type": "markdown",
      "metadata": {
        "id": "IiIXO07OMqfZ"
      },
      "source": [
        "# Part III. Avoid forming Householder matrices explicitly."
      ]
    },
    {
      "cell_type": "markdown",
      "metadata": {
        "id": "OCNScdQXMqfa"
      },
      "source": [
        "Note the special structure of the Householder matrices: A reflector $\\mathbf{H}$ is completely specified by a reflection vector $\\mathbf{u}$. Also note that the computational cost of applying a reflector to a matrix strongly depends on the order of operations:\n",
        "\n",
        "$$\n",
        "\\left( \\mathbf{u} \\mathbf{u}^T \\right) \\mathbf{A}  \\qquad \\textrm{is } O(m^2 n)\\;,\n",
        "$$\n",
        "while\n",
        "$$\n",
        "\\mathbf{u} \\left( \\mathbf{u}^T \\mathbf{A} \\right) \\qquad \\textrm{is } O(mn)\n",
        "$$\n",
        "\n",
        "Thus, it seems to make sense to *avoid* forming the $\\mathbf{H}$ matrices. Instead, one stores the reflection vectors, $\\mathbf{u}$, themselves, and provides a way of multiplying an arbitrary matrix by $\\mathbf{Q}^T$, e.g., as a standalone function (or a class)."
      ]
    },
    {
      "cell_type": "markdown",
      "metadata": {
        "id": "2Sse5d3aMqfa"
      },
      "source": [
        "Write a function which constructs the `QR` decomposition of a matrix *without ever forming the* $\\mathbf{H}$ matrices, and returns the $\\mathbf{R}$ matrix and reflection vectors. \n",
        "\n",
        "Write a second function, which uses reflection vectors to multiply a matrix with $\\mathbf{Q}^T$. Make sure to include enough comments for a marker to follow your implementation, and add tests. \n",
        "\n",
        "(Peer-graded, 40% of the total grade)"
      ]
    },
    {
      "cell_type": "code",
      "metadata": {
        "collapsed": true,
        "id": "5j2X8OWrMqfa"
      },
      "source": [
        "#Class needed for extended procedures\n",
        "\n",
        "class QR: \n",
        "    \n",
        "    def __init__(self, A): #defines a matrix, changes the shape so no H needed\n",
        "        m, n = A.shape\n",
        "        self.R = np.array(A, copy=True, dtype=float)\n",
        "        self.Q = []\n",
        "    \n",
        "        for i in range(n):\n",
        "            u = np.concatenate((np.zeros(i), self.household(self.R[i:,i])))\n",
        "            \n",
        "            self.Q.append(u)\n",
        "            self.R -= 2 * np.matmul(u.reshape(-1, 1), np.matmul(u.reshape(1, -1), self.R)) \n",
        "        \n",
        "        \n",
        "    def household(self, vector): #applies householder, does not return H\n",
        "        vector = np.asarray(vector, dtype=float)\n",
        "        if vector.ndim != 1:\n",
        "            raise ValueError(\"vector.ndim = %s, expected 1\" % vector.ndim)\n",
        "\n",
        "        vector_norm = np.linalg.norm(vector, ord=2)\n",
        "        u = vector.copy()\n",
        "        u[0] = (vector[0]**2 - vector_norm**2) / (vector[0] + vector_norm)\n",
        "        u_norm = np.linalg.norm(u, ord=2)\n",
        "        u = (u / u_norm)\n",
        "    \n",
        "        return u\n",
        "    \n",
        "    def Q_trans_multiply(self, X): #Transmutated matrix through multiplication\n",
        "        \n",
        "        x = np.array(X, copy=True, dtype=float)\n",
        "        for u in self.Q[::-1]:\n",
        "            x -= 2 * np.matmul(u.reshape(-1, 1), np.matmul(u.reshape(1, -1), x))\n",
        "            \n",
        "        return x"
      ],
      "execution_count": null,
      "outputs": []
    },
    {
      "cell_type": "markdown",
      "metadata": {
        "id": "wWrW2Hz8gN61"
      },
      "source": [
        "Now we can test the decomposition ourselves."
      ]
    },
    {
      "cell_type": "code",
      "metadata": {
        "id": "NwWMKXaEgJ18"
      },
      "source": [
        "qr = QR(a)\n",
        "assert_allclose(qr.Q_trans_multiply(qr.R), a)"
      ],
      "execution_count": null,
      "outputs": []
    }
  ]
}